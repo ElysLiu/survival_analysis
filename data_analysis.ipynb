{
 "cells": [
  {
   "cell_type": "markdown",
   "metadata": {},
   "source": [
    "### 获取数据"
   ]
  },
  {
   "cell_type": "code",
   "execution_count": 2,
   "metadata": {},
   "outputs": [],
   "source": [
    "import pymysql.cursors\n",
    "import numpy as np\n",
    "import pandas as pd\n",
    "import seaborn as sns\n",
    "import matplotlib.pyplot as plt\n",
    "# 连接数据库\n",
    "connect = pymysql.Connect(\n",
    "    host='118.31.61.2',\n",
    "    port=3306,\n",
    "    user='sim509',\n",
    "    passwd='sim509sim509',\n",
    "    #db='wechat_ohc',\n",
    "    charset='utf8'\n",
    ")"
   ]
  },
  {
   "cell_type": "code",
   "execution_count": 698,
   "metadata": {},
   "outputs": [],
   "source": [
    "cursor = connect.cursor()"
   ]
  },
  {
   "cell_type": "code",
   "execution_count": 243,
   "metadata": {},
   "outputs": [],
   "source": [
    "sql = \"show databases\" \n",
    "   # 执行SQL语句\n",
    "cursor.execute(sql)\n",
    "   # 获取所有记录列表\n",
    "results = cursor.fetchall()"
   ]
  },
  {
   "cell_type": "code",
   "execution_count": 244,
   "metadata": {},
   "outputs": [
    {
     "data": {
      "text/plain": [
       "(('information_schema',),\n",
       " ('all_wechat',),\n",
       " ('baidu_jingyan',),\n",
       " ('goods',),\n",
       " ('haodf',),\n",
       " ('mysql',),\n",
       " ('onmall',),\n",
       " ('onteach',),\n",
       " ('performance_schema',),\n",
       " ('sys',),\n",
       " ('wechat_analysis',),\n",
       " ('wechat_tag',))"
      ]
     },
     "execution_count": 244,
     "metadata": {},
     "output_type": "execute_result"
    }
   ],
   "source": [
    "results"
   ]
  },
  {
   "cell_type": "code",
   "execution_count": 717,
   "metadata": {},
   "outputs": [
    {
     "data": {
      "text/plain": [
       "(('auth_group',),\n",
       " ('auth_group_permissions',),\n",
       " ('auth_permission',),\n",
       " ('auth_user',),\n",
       " ('auth_user_groups',),\n",
       " ('auth_user_user_permissions',),\n",
       " ('django_admin_log',),\n",
       " ('django_content_type',),\n",
       " ('django_migrations',),\n",
       " ('django_session',),\n",
       " ('first_user',),\n",
       " ('tag_history',),\n",
       " ('wechat_contact',),\n",
       " ('wechat_message_clean',))"
      ]
     },
     "execution_count": 717,
     "metadata": {},
     "output_type": "execute_result"
    }
   ],
   "source": [
    "#sql = \"show tables from wechat_tag\" \n",
    "# info ,wechat_tag.wechat_contact; content,wechat_tag.wechat_message_clean\n",
    "sql = \"show tables from wechat_tag\" \n",
    "   # 执行SQL语句\n",
    "cursor.execute(sql)\n",
    "   # 获取所有记录列表\n",
    "cursor.fetchall()"
   ]
  },
  {
   "cell_type": "code",
   "execution_count": 725,
   "metadata": {},
   "outputs": [],
   "source": [
    "# #sql = \"desc wechat_tag.tag_history\" \n",
    "# sql = \"select *  from wechat_tag.wechat_message_clean limit 10\" \n",
    "#    # 执行SQL语句\n",
    "# cursor.execute(sql)\n",
    "#    # 获取所有记录列表\n",
    "# cursor.fetchall()"
   ]
  },
  {
   "cell_type": "code",
   "execution_count": 131,
   "metadata": {},
   "outputs": [],
   "source": [
    "sql = \"select wechat_id,nickname,at_names from wechat_tag.wechat_contact\" \n",
    "   # 执行SQL语句\n",
    "cursor.execute(sql)\n",
    "   # 获取所有记录列表\n",
    "df_info = cursor.fetchall()"
   ]
  },
  {
   "cell_type": "code",
   "execution_count": 134,
   "metadata": {},
   "outputs": [],
   "source": [
    "#群名称与昵称对应编码和中文名\n",
    "df_info = pd.DataFrame(list(df_info))\n",
    "#df_info.to_csv('data//info.csv',encoding = 'utf-8-sig',index = None)"
   ]
  },
  {
   "cell_type": "code",
   "execution_count": 7,
   "metadata": {},
   "outputs": [
    {
     "data": {
      "text/plain": [
       "(('10690173821@chatroom', 67),\n",
       " ('12061178839@chatroom', 61),\n",
       " ('12177174851@chatroom', 68),\n",
       " ('12288142451@chatroom', 112),\n",
       " ('2932669628@chatroom', 516),\n",
       " ('4378846627@chatroom', 75),\n",
       " ('5007452012@chatroom', 239),\n",
       " ('5064606722@chatroom', 165),\n",
       " ('5357135789@chatroom', 166),\n",
       " ('5383512475@chatroom', 359),\n",
       " ('5383597804@chatroom', 311),\n",
       " ('5556417190@chatroom', 406),\n",
       " ('5860808232@chatroom', 205),\n",
       " ('6342900410@chatroom', 484),\n",
       " ('6378298822@chatroom', 517),\n",
       " ('6506298440@chatroom', 518),\n",
       " ('6625489787@chatroom', 517),\n",
       " ('6983299053@chatroom', 516),\n",
       " ('7011298462@chatroom', 516),\n",
       " ('7415625039@chatroom', 516),\n",
       " ('8309357221@chatroom', 113),\n",
       " ('8619181835@chatroom', 55),\n",
       " ('9174142886@chatroom', 103))"
      ]
     },
     "execution_count": 7,
     "metadata": {},
     "output_type": "execute_result"
    }
   ],
   "source": [
    "sql = \"select chatroom,timestampdiff(DAY,min(createTime),max(createTime))  from all_wechat.wechat_message_clean  group by chatroom\" \n",
    "   # 执行SQL语句\n",
    "cursor.execute(sql)\n",
    "   # 获取所有记录列表\n",
    "cursor.fetchall()"
   ]
  },
  {
   "cell_type": "code",
   "execution_count": 435,
   "metadata": {},
   "outputs": [],
   "source": [
    "sql = \"select msgId,chatroom,mType,createTime,content,flow_tag,talker_id from  wechat_tag.wechat_message_clean\" \n",
    "   # 执行SQL语句\n",
    "cursor.execute(sql)\n",
    "   # 获取所有记录列表\n",
    "df = cursor.fetchall()"
   ]
  },
  {
   "cell_type": "code",
   "execution_count": 436,
   "metadata": {},
   "outputs": [
    {
     "data": {
      "text/plain": [
       "122096"
      ]
     },
     "execution_count": 436,
     "metadata": {},
     "output_type": "execute_result"
    }
   ],
   "source": [
    "import pandas as pd\n",
    "df = pd.DataFrame(list(df))\n",
    "len(df)"
   ]
  },
  {
   "cell_type": "code",
   "execution_count": 437,
   "metadata": {},
   "outputs": [
    {
     "data": {
      "text/html": [
       "<div>\n",
       "<style scoped>\n",
       "    .dataframe tbody tr th:only-of-type {\n",
       "        vertical-align: middle;\n",
       "    }\n",
       "\n",
       "    .dataframe tbody tr th {\n",
       "        vertical-align: top;\n",
       "    }\n",
       "\n",
       "    .dataframe thead th {\n",
       "        text-align: right;\n",
       "    }\n",
       "</style>\n",
       "<table border=\"1\" class=\"dataframe\">\n",
       "  <thead>\n",
       "    <tr style=\"text-align: right;\">\n",
       "      <th></th>\n",
       "      <th>0</th>\n",
       "      <th>1</th>\n",
       "      <th>2</th>\n",
       "      <th>3</th>\n",
       "      <th>4</th>\n",
       "      <th>5</th>\n",
       "      <th>6</th>\n",
       "    </tr>\n",
       "  </thead>\n",
       "  <tbody>\n",
       "    <tr>\n",
       "      <th>0</th>\n",
       "      <td>49760</td>\n",
       "      <td>5007452012@chatroom</td>\n",
       "      <td>1</td>\n",
       "      <td>2018-08-24 11:22:58</td>\n",
       "      <td>不能比价格</td>\n",
       "      <td>2</td>\n",
       "      <td>wxid_psmmfcuyrvie21</td>\n",
       "    </tr>\n",
       "    <tr>\n",
       "      <th>1</th>\n",
       "      <td>49761</td>\n",
       "      <td>5007452012@chatroom</td>\n",
       "      <td>1</td>\n",
       "      <td>2018-08-24 11:23:05</td>\n",
       "      <td>是</td>\n",
       "      <td>2</td>\n",
       "      <td>sujie9988</td>\n",
       "    </tr>\n",
       "    <tr>\n",
       "      <th>2</th>\n",
       "      <td>49762</td>\n",
       "      <td>5007452012@chatroom</td>\n",
       "      <td>1</td>\n",
       "      <td>2018-08-24 11:23:10</td>\n",
       "      <td>髓母多了一个脊髓放疗</td>\n",
       "      <td>2</td>\n",
       "      <td>wxid_psmmfcuyrvie21</td>\n",
       "    </tr>\n",
       "    <tr>\n",
       "      <th>3</th>\n",
       "      <td>49763</td>\n",
       "      <td>5007452012@chatroom</td>\n",
       "      <td>1</td>\n",
       "      <td>2018-08-24 11:23:12</td>\n",
       "      <td>可以去德国</td>\n",
       "      <td>2</td>\n",
       "      <td>wxid_nr9f78yoe69421</td>\n",
       "    </tr>\n",
       "    <tr>\n",
       "      <th>4</th>\n",
       "      <td>49764</td>\n",
       "      <td>5007452012@chatroom</td>\n",
       "      <td>1</td>\n",
       "      <td>2018-08-24 11:23:27</td>\n",
       "      <td>钱都交了，安心治疗吧，现在长庚医院也要求治疗前费用交齐了</td>\n",
       "      <td>2</td>\n",
       "      <td>limuhao001</td>\n",
       "    </tr>\n",
       "  </tbody>\n",
       "</table>\n",
       "</div>"
      ],
      "text/plain": [
       "       0                    1  2                   3  \\\n",
       "0  49760  5007452012@chatroom  1 2018-08-24 11:22:58   \n",
       "1  49761  5007452012@chatroom  1 2018-08-24 11:23:05   \n",
       "2  49762  5007452012@chatroom  1 2018-08-24 11:23:10   \n",
       "3  49763  5007452012@chatroom  1 2018-08-24 11:23:12   \n",
       "4  49764  5007452012@chatroom  1 2018-08-24 11:23:27   \n",
       "\n",
       "                              4  5                    6  \n",
       "0                         不能比价格  2  wxid_psmmfcuyrvie21  \n",
       "1                             是  2            sujie9988  \n",
       "2                    髓母多了一个脊髓放疗  2  wxid_psmmfcuyrvie21  \n",
       "3                         可以去德国  2  wxid_nr9f78yoe69421  \n",
       "4  钱都交了，安心治疗吧，现在长庚医院也要求治疗前费用交齐了  2           limuhao001  "
      ]
     },
     "execution_count": 437,
     "metadata": {},
     "output_type": "execute_result"
    }
   ],
   "source": [
    "df.head()"
   ]
  },
  {
   "cell_type": "code",
   "execution_count": 726,
   "metadata": {},
   "outputs": [],
   "source": [
    "#df1.drop([0],axis = 1,inplace = True)\n",
    "connect.close()"
   ]
  },
  {
   "cell_type": "code",
   "execution_count": 441,
   "metadata": {},
   "outputs": [],
   "source": [
    "df = df.rename(columns = {0:'msgId',1:'chatroom',2:'mType',3:'createTime',4:'content',5:'flow_tag',6:'talker_id'})"
   ]
  },
  {
   "cell_type": "code",
   "execution_count": 442,
   "metadata": {},
   "outputs": [
    {
     "data": {
      "text/plain": [
       "(64807, 57289)"
      ]
     },
     "execution_count": 442,
     "metadata": {},
     "output_type": "execute_result"
    }
   ],
   "source": [
    "len(df[df.chatroom == '5007452012@chatroom']),len(df[df.chatroom == '5556417190@chatroom'])"
   ]
  },
  {
   "cell_type": "code",
   "execution_count": 451,
   "metadata": {},
   "outputs": [
    {
     "name": "stdout",
     "output_type": "stream",
     "text": [
      "61989\n",
      "53992\n"
     ]
    },
    {
     "name": "stderr",
     "output_type": "stream",
     "text": [
      "//anaconda3/lib/python3.7/site-packages/ipykernel_launcher.py:1: UserWarning: Boolean Series key will be reindexed to match DataFrame index.\n",
      "  \"\"\"Entry point for launching an IPython kernel.\n",
      "//anaconda3/lib/python3.7/site-packages/ipykernel_launcher.py:2: UserWarning: Boolean Series key will be reindexed to match DataFrame index.\n",
      "  \n"
     ]
    }
   ],
   "source": [
    "print(len(df[df.chatroom == '5007452012@chatroom'][df.mType == 1]))\n",
    "print(len(df[df.chatroom == '5556417190@chatroom'][df.mType == 1]))"
   ]
  },
  {
   "cell_type": "code",
   "execution_count": 448,
   "metadata": {},
   "outputs": [],
   "source": [
    "mType = df.groupby('mType').content.count()\n",
    "#mType = pd.DataFrame(list(mType))"
   ]
  },
  {
   "cell_type": "code",
   "execution_count": 449,
   "metadata": {},
   "outputs": [
    {
     "name": "stderr",
     "output_type": "stream",
     "text": [
      "//anaconda3/lib/python3.7/site-packages/ipykernel_launcher.py:1: FutureWarning: The signature of `Series.to_csv` was aligned to that of `DataFrame.to_csv`, and argument 'header' will change its default value from False to True: please pass an explicit value to suppress this warning.\n",
      "  \"\"\"Entry point for launching an IPython kernel.\n"
     ]
    }
   ],
   "source": [
    "mType.to_csv('data//mType.csv',encoding = 'utf-8-sig')"
   ]
  },
  {
   "cell_type": "code",
   "execution_count": 16,
   "metadata": {},
   "outputs": [],
   "source": [
    "# df1.to_csv('data//all_wechat.csv',encoding = 'utf-8-sig',index = None)"
   ]
  },
  {
   "cell_type": "code",
   "execution_count": 39,
   "metadata": {},
   "outputs": [],
   "source": [
    "#df2 = pd.read_csv('data//child3.txt',encoding = 'utf-8')"
   ]
  },
  {
   "cell_type": "code",
   "execution_count": 4,
   "metadata": {},
   "outputs": [],
   "source": [
    "df = pd.read_csv('data//child2&3.csv',encoding = 'utf-8')"
   ]
  },
  {
   "cell_type": "code",
   "execution_count": 9,
   "metadata": {},
   "outputs": [
    {
     "data": {
      "text/plain": [
       "chatroom\n",
       "5007452012@chatroom    64807\n",
       "5556417190@chatroom    57289\n",
       "Name: msgId, dtype: int64"
      ]
     },
     "execution_count": 9,
     "metadata": {},
     "output_type": "execute_result"
    }
   ],
   "source": [
    "df.groupby('chatroom').msgId.count()"
   ]
  },
  {
   "cell_type": "code",
   "execution_count": 16,
   "metadata": {},
   "outputs": [
    {
     "data": {
      "text/plain": [
       "pandas._libs.tslibs.timestamps.Timestamp"
      ]
     },
     "execution_count": 16,
     "metadata": {},
     "output_type": "execute_result"
    }
   ],
   "source": [
    "type(df['createTime'][1])"
   ]
  },
  {
   "cell_type": "code",
   "execution_count": 15,
   "metadata": {},
   "outputs": [],
   "source": [
    "from datetime import datetime\n",
    "df['createTime']=df['createTime'].apply(lambda x: datetime.strptime(x, '%Y-%m-%d %H:%M:%S'))"
   ]
  },
  {
   "cell_type": "markdown",
   "metadata": {},
   "source": [
    "#### 发言时间分布"
   ]
  },
  {
   "cell_type": "code",
   "execution_count": 39,
   "metadata": {},
   "outputs": [
    {
     "data": {
      "image/png": "[encoded data removed]",
      "text/plain": [
       "<Figure size 432x288 with 1 Axes>"
      ]
     },
     "metadata": {
      "needs_background": "light"
     },
     "output_type": "display_data"
    }
   ],
   "source": [
    "n, bins, patches = plt.hist(df[df.chatroom =='5556417190@chatroom'].createTime, \n",
    "                            bins=136, histtype='bar')\n",
    "\n",
    "plt.rcParams[\"font.sans-serif\"]=[\"SimHei\"]\n",
    "#plt.legend()\n",
    "#plt.grid()\n",
    "#plt.ylabel('发言量') # 横坐标轴的标题\n",
    "#plt.xlabel('x')\n",
    "ax=plt.gca() \n",
    "ax.spines[\"right\"].set_color(\"none\") #隐藏右边坐标轴的那条线\n",
    "ax.spines[\"top\"].set_color(\"none\") #隐藏右边坐标轴的那条线\n",
    "for label in ax.get_xticklabels()+ax.get_yticklabels(): #编辑设置坐标轴上的标注数值的格式\n",
    "    label.set_fontsize(8) #设置标注数值数字大小尺\n",
    "    label.set_color('black')\n",
    "    label.set_bbox(dict(facecolor=\"white\",edgecolor=\"none\",alpha=1))  \n",
    "plt.savefig(\"img//90_hist.png\",dpi=300)\n",
    "plt.show()\n",
    "#print(df[df.chatroom =='5007452012@chatroom'].createTime.hist(bins = 120,normed=1,figsize = (10,6)))\n",
    "#plt.savefig(\"filename.png\",dpi=300)\n",
    "#histtype : {'bar', 'barstacked', 'step',  'stepfilled'},log : bool, "
   ]
  },
  {
   "cell_type": "code",
   "execution_count": 40,
   "metadata": {},
   "outputs": [
    {
     "data": {
      "image/png": "[encoded data removed]",
      "text/plain": [
       "<Figure size 432x288 with 1 Axes>"
      ]
     },
     "metadata": {
      "needs_background": "light"
     },
     "output_type": "display_data"
    }
   ],
   "source": [
    "n, bins, patches = plt.hist(df[df.chatroom =='5007452012@chatroom'].createTime, \n",
    "                            bins=80, histtype='bar')\n",
    "\n",
    "plt.rcParams[\"font.sans-serif\"]=[\"SimHei\"]\n",
    "#plt.legend()\n",
    "#plt.grid()\n",
    "#plt.ylabel('发言量') # 横坐标轴的标题\n",
    "#plt.xlabel('x')\n",
    "ax=plt.gca() \n",
    "ax.spines[\"right\"].set_color(\"none\") #隐藏右边坐标轴的那条线\n",
    "ax.spines[\"top\"].set_color(\"none\") #隐藏右边坐标轴的那条线\n",
    "for label in ax.get_xticklabels()+ax.get_yticklabels(): #编辑设置坐标轴上的标注数值的格式\n",
    "    label.set_fontsize(8) #设置标注数值数字大小尺\n",
    "    label.set_color('black')\n",
    "    label.set_bbox(dict(facecolor=\"white\",edgecolor=\"none\",alpha=1))  \n",
    "plt.savefig(\"img//12_hist.png\",dpi=300)\n",
    "plt.show()\n",
    "#print(df[df.chatroom =='5007452012@chatroom'].createTime.hist(bins = 120,normed=1,figsize = (10,6)))\n",
    "#plt.savefig(\"filename.png\",dpi=300)\n",
    "#histtype : {'bar', 'barstacked', 'step',  'stepfilled'},log : bool, "
   ]
  },
  {
   "cell_type": "code",
   "execution_count": 519,
   "metadata": {},
   "outputs": [
    {
     "data": {
      "text/plain": [
       "<matplotlib.axes._subplots.AxesSubplot at 0x1a2d5b96a0>"
      ]
     },
     "execution_count": 519,
     "metadata": {},
     "output_type": "execute_result"
    },
    {
     "data": {
      "image/png": "[encoded data removed]",
      "text/plain": [
       "<Figure size 720x432 with 1 Axes>"
      ]
     },
     "metadata": {
      "needs_background": "light"
     },
     "output_type": "display_data"
    }
   ],
   "source": [
    "df[df.chatroom =='5007452012@chatroom'].createTime.hist(bins = 120,histtype='step',\n",
    "                                                              grid = False,figsize = (10,6))"
   ]
  },
  {
   "cell_type": "code",
   "execution_count": 453,
   "metadata": {},
   "outputs": [
    {
     "name": "stdout",
     "output_type": "stream",
     "text": [
      "AxesSubplot(0.125,0.125;0.775x0.755)\n"
     ]
    },
    {
     "data": {
      "image/png": "[encoded data removed]",
      "text/plain": [
       "<Figure size 432x288 with 1 Axes>"
      ]
     },
     "metadata": {
      "needs_background": "light"
     },
     "output_type": "display_data"
    }
   ],
   "source": [
    "print(df[df.chatroom =='5556417190@chatroom'].createTime.hist(bins = 100))"
   ]
  },
  {
   "cell_type": "code",
   "execution_count": 459,
   "metadata": {},
   "outputs": [],
   "source": [
    "df_date12 = df[df.chatroom =='5007452012@chatroom'].groupby('date').content.count()\n",
    "df_date90 = df[df.chatroom =='5556417190@chatroom'].groupby('date').content.count()"
   ]
  },
  {
   "cell_type": "code",
   "execution_count": 461,
   "metadata": {},
   "outputs": [
    {
     "data": {
      "text/html": [
       "<div>\n",
       "<style scoped>\n",
       "    .dataframe tbody tr th:only-of-type {\n",
       "        vertical-align: middle;\n",
       "    }\n",
       "\n",
       "    .dataframe tbody tr th {\n",
       "        vertical-align: top;\n",
       "    }\n",
       "\n",
       "    .dataframe thead th {\n",
       "        text-align: right;\n",
       "    }\n",
       "</style>\n",
       "<table border=\"1\" class=\"dataframe\">\n",
       "  <thead>\n",
       "    <tr style=\"text-align: right;\">\n",
       "      <th></th>\n",
       "      <th>content</th>\n",
       "      <th>date</th>\n",
       "    </tr>\n",
       "  </thead>\n",
       "  <tbody>\n",
       "    <tr>\n",
       "      <th>0</th>\n",
       "      <td>3</td>\n",
       "      <td>2018-01-31</td>\n",
       "    </tr>\n",
       "    <tr>\n",
       "      <th>1</th>\n",
       "      <td>6</td>\n",
       "      <td>2018-02-03</td>\n",
       "    </tr>\n",
       "    <tr>\n",
       "      <th>2</th>\n",
       "      <td>4</td>\n",
       "      <td>2018-02-06</td>\n",
       "    </tr>\n",
       "    <tr>\n",
       "      <th>3</th>\n",
       "      <td>3</td>\n",
       "      <td>2018-02-09</td>\n",
       "    </tr>\n",
       "    <tr>\n",
       "      <th>4</th>\n",
       "      <td>53</td>\n",
       "      <td>2018-02-11</td>\n",
       "    </tr>\n",
       "  </tbody>\n",
       "</table>\n",
       "</div>"
      ],
      "text/plain": [
       "   content        date\n",
       "0        3  2018-01-31\n",
       "1        6  2018-02-03\n",
       "2        4  2018-02-06\n",
       "3        3  2018-02-09\n",
       "4       53  2018-02-11"
      ]
     },
     "execution_count": 461,
     "metadata": {},
     "output_type": "execute_result"
    }
   ],
   "source": [
    "df_date12 = pd.DataFrame(df_date12)\n",
    "df_date90 = pd.DataFrame(df_date90)\n",
    "df_date12['date'] = df_date12.index\n",
    "df_date90['date'] = df_date90.index\n",
    "df_date12= df_date12.reset_index(drop=True)\n",
    "df_date90= df_date90.reset_index(drop=True)\n",
    "df_date90.head()"
   ]
  },
  {
   "cell_type": "code",
   "execution_count": 476,
   "metadata": {},
   "outputs": [],
   "source": [
    "#df_date90.to_csv('data//90_date.csv',encoding = 'utf-8-sig',index = None)"
   ]
  },
  {
   "cell_type": "code",
   "execution_count": 477,
   "metadata": {},
   "outputs": [],
   "source": [
    "# import matplotlib.pyplot as plt\n",
    "# import matplotlib as mpl\n",
    "# import numpy as np\n",
    "# % matplotlib inline\n",
    "# import datetime#这个包很关键\n",
    "# #设定开始和结束时间\n",
    "# start=datetime.datetime(2018,1,31)\n",
    "# stop=datetime.datetime(2019,3,14)\n",
    "# delta=datetime.timedelta(1)#设定日期的间隔\n",
    "# dates=mpl.dates.drange(start,stop,delta)# 返回浮点型的日期序列，这个是生成时间序列，同理如果是将序列转成日期呢？\n",
    "# values=np.random.rand(len(dates))\n",
    "# #存在两个问题，一个是坐标轴没有按照日期的形式去标注，另一个是刻度的数量和位置也不合适\n",
    "# fig=plt.figure(figsize=(24,12))#调整画图空间的大小\n",
    "# plt.plot(dates,values,linestyle='-',marker='*',c='r',alpha=0.5)#作图\n",
    "# ax=plt.gca()\n",
    "# date_format=mpl.dates.DateFormatter('%Y-%m-%d')#设定显示的格式形式\n",
    "# ax.xaxis.set_major_formatter(date_format)#设定x轴主要格式\n",
    "# ax.xaxis.set_major_locator(mpl.ticker.MultipleLocator(30))#设定坐标轴的显示的刻度间隔\n",
    "# fig.autofmt_xdate()#防止x轴上的数据重叠，自动调整。\n"
   ]
  },
  {
   "cell_type": "markdown",
   "metadata": {},
   "source": [
    "#### 发言频次统计，仅文本数据"
   ]
  },
  {
   "cell_type": "code",
   "execution_count": 252,
   "metadata": {},
   "outputs": [
    {
     "data": {
      "text/plain": [
       "(617, 514)"
      ]
     },
     "execution_count": 252,
     "metadata": {},
     "output_type": "execute_result"
    }
   ],
   "source": [
    "df1= df1[df1.mType==1]\n",
    "df1 = df1.reset_index(drop=True)\n",
    "df_u90 = df1[df1.chatroom =='5556417190@chatroom'].groupby(['talker_id']).createTime.count()\n",
    "df_u12 = df1[df1.chatroom =='5007452012@chatroom'].groupby(['talker_id']).createTime.count()\n",
    "len(df_u90),len(df_u12)"
   ]
  },
  {
   "cell_type": "code",
   "execution_count": 253,
   "metadata": {},
   "outputs": [
    {
     "data": {
      "text/plain": [
       "talker_id\n",
       "A19920515001         77\n",
       "Aria001               1\n",
       "GUOJING965859953     26\n",
       "H10151216             2\n",
       "Joyce88272887       231\n",
       "Name: createTime, dtype: int64"
      ]
     },
     "execution_count": 253,
     "metadata": {},
     "output_type": "execute_result"
    }
   ],
   "source": [
    "df_u90.head()"
   ]
  },
  {
   "cell_type": "code",
   "execution_count": 254,
   "metadata": {},
   "outputs": [],
   "source": [
    "df_u90 = pd.DataFrame(df_u90)\n",
    "df_u12 = pd.DataFrame(df_u12)"
   ]
  },
  {
   "cell_type": "code",
   "execution_count": 255,
   "metadata": {},
   "outputs": [
    {
     "data": {
      "text/plain": [
       "Index(['A19920515001', 'Aria001', 'GUOJING965859953', 'H10151216',\n",
       "       'Joyce88272887', 'Juan442756142', 'MCLZB84', 'PEluoluo', 'Q523qian',\n",
       "       'WJ982059995',\n",
       "       ...\n",
       "       'xuejin334209', 'xxx521xiangxiang', 'yangzhangmin002', 'youwuhan',\n",
       "       'yyy-xj', 'zhanglianlian0618', 'zhangyu032456', 'zhengjiman001',\n",
       "       'zjkwuzhen', 'zxlgameboy'],\n",
       "      dtype='object', name='talker_id', length=617)"
      ]
     },
     "execution_count": 255,
     "metadata": {},
     "output_type": "execute_result"
    }
   ],
   "source": [
    "df_u90.index"
   ]
  },
  {
   "cell_type": "code",
   "execution_count": 256,
   "metadata": {},
   "outputs": [
    {
     "data": {
      "text/html": [
       "<div>\n",
       "<style scoped>\n",
       "    .dataframe tbody tr th:only-of-type {\n",
       "        vertical-align: middle;\n",
       "    }\n",
       "\n",
       "    .dataframe tbody tr th {\n",
       "        vertical-align: top;\n",
       "    }\n",
       "\n",
       "    .dataframe thead th {\n",
       "        text-align: right;\n",
       "    }\n",
       "</style>\n",
       "<table border=\"1\" class=\"dataframe\">\n",
       "  <thead>\n",
       "    <tr style=\"text-align: right;\">\n",
       "      <th></th>\n",
       "      <th>createTime</th>\n",
       "      <th>talker_id</th>\n",
       "    </tr>\n",
       "  </thead>\n",
       "  <tbody>\n",
       "    <tr>\n",
       "      <th>0</th>\n",
       "      <td>77</td>\n",
       "      <td>A19920515001</td>\n",
       "    </tr>\n",
       "    <tr>\n",
       "      <th>1</th>\n",
       "      <td>1</td>\n",
       "      <td>Aria001</td>\n",
       "    </tr>\n",
       "    <tr>\n",
       "      <th>2</th>\n",
       "      <td>26</td>\n",
       "      <td>GUOJING965859953</td>\n",
       "    </tr>\n",
       "    <tr>\n",
       "      <th>3</th>\n",
       "      <td>2</td>\n",
       "      <td>H10151216</td>\n",
       "    </tr>\n",
       "    <tr>\n",
       "      <th>4</th>\n",
       "      <td>231</td>\n",
       "      <td>Joyce88272887</td>\n",
       "    </tr>\n",
       "  </tbody>\n",
       "</table>\n",
       "</div>"
      ],
      "text/plain": [
       "   createTime         talker_id\n",
       "0          77      A19920515001\n",
       "1           1           Aria001\n",
       "2          26  GUOJING965859953\n",
       "3           2         H10151216\n",
       "4         231     Joyce88272887"
      ]
     },
     "execution_count": 256,
     "metadata": {},
     "output_type": "execute_result"
    }
   ],
   "source": [
    "df_u90['talker_id'] = df_u90.index\n",
    "df_u12['talker_id'] = df_u12.index\n",
    "df_u90= df_u90.reset_index(drop=True)\n",
    "df_u12= df_u12.reset_index(drop=True)\n",
    "df_u90.head()"
   ]
  },
  {
   "cell_type": "code",
   "execution_count": 257,
   "metadata": {},
   "outputs": [],
   "source": [
    "df_u90 = df_u90.rename(columns = {'createTime':'talk_cnt'})\n",
    "df_u12 = df_u12.rename(columns = {'createTime':'talk_cnt'})"
   ]
  },
  {
   "cell_type": "markdown",
   "metadata": {},
   "source": [
    "#### 发言时间差统计，添加min、max和max_min"
   ]
  },
  {
   "cell_type": "code",
   "execution_count": 455,
   "metadata": {},
   "outputs": [],
   "source": [
    "from datetime import datetime, date\n",
    "df['date']=df['createTime'].apply(lambda x:x.strftime(\"%Y-%m-%d\"))"
   ]
  },
  {
   "cell_type": "code",
   "execution_count": 259,
   "metadata": {},
   "outputs": [
    {
     "data": {
      "text/plain": [
       "'2018-04-13'"
      ]
     },
     "execution_count": 259,
     "metadata": {},
     "output_type": "execute_result"
    }
   ],
   "source": [
    "df1.loc[(df1['talker_id'] == 'A19920515001') & (df1['chatroom'] == '5556417190@chatroom'), 'date'].min()"
   ]
  },
  {
   "cell_type": "code",
   "execution_count": 260,
   "metadata": {},
   "outputs": [
    {
     "data": {
      "text/plain": [
       "'2018-05-10'"
      ]
     },
     "execution_count": 260,
     "metadata": {},
     "output_type": "execute_result"
    }
   ],
   "source": [
    "df1.loc[(df1['talker_id'] == 'A19920515001') & (df1['chatroom'] == '5556417190@chatroom'), 'date'].max()"
   ]
  },
  {
   "cell_type": "code",
   "execution_count": 261,
   "metadata": {},
   "outputs": [
    {
     "data": {
      "text/html": [
       "<div>\n",
       "<style scoped>\n",
       "    .dataframe tbody tr th:only-of-type {\n",
       "        vertical-align: middle;\n",
       "    }\n",
       "\n",
       "    .dataframe tbody tr th {\n",
       "        vertical-align: top;\n",
       "    }\n",
       "\n",
       "    .dataframe thead th {\n",
       "        text-align: right;\n",
       "    }\n",
       "</style>\n",
       "<table border=\"1\" class=\"dataframe\">\n",
       "  <thead>\n",
       "    <tr style=\"text-align: right;\">\n",
       "      <th></th>\n",
       "      <th>talk_cnt</th>\n",
       "      <th>talker_id</th>\n",
       "      <th>min_date</th>\n",
       "      <th>max_date</th>\n",
       "      <th>max_min</th>\n",
       "    </tr>\n",
       "  </thead>\n",
       "  <tbody>\n",
       "    <tr>\n",
       "      <th>0</th>\n",
       "      <td>77</td>\n",
       "      <td>A19920515001</td>\n",
       "      <td>2018-04-13</td>\n",
       "      <td>2018-05-10</td>\n",
       "      <td>28</td>\n",
       "    </tr>\n",
       "    <tr>\n",
       "      <th>1</th>\n",
       "      <td>1</td>\n",
       "      <td>Aria001</td>\n",
       "      <td>2019-03-12</td>\n",
       "      <td>2019-03-12</td>\n",
       "      <td>1</td>\n",
       "    </tr>\n",
       "    <tr>\n",
       "      <th>2</th>\n",
       "      <td>26</td>\n",
       "      <td>GUOJING965859953</td>\n",
       "      <td>2018-03-24</td>\n",
       "      <td>2018-09-23</td>\n",
       "      <td>184</td>\n",
       "    </tr>\n",
       "    <tr>\n",
       "      <th>3</th>\n",
       "      <td>2</td>\n",
       "      <td>H10151216</td>\n",
       "      <td>2018-07-07</td>\n",
       "      <td>2018-07-07</td>\n",
       "      <td>1</td>\n",
       "    </tr>\n",
       "    <tr>\n",
       "      <th>4</th>\n",
       "      <td>231</td>\n",
       "      <td>Joyce88272887</td>\n",
       "      <td>2018-05-13</td>\n",
       "      <td>2019-02-26</td>\n",
       "      <td>290</td>\n",
       "    </tr>\n",
       "  </tbody>\n",
       "</table>\n",
       "</div>"
      ],
      "text/plain": [
       "   talk_cnt         talker_id    min_date    max_date  max_min\n",
       "0        77      A19920515001  2018-04-13  2018-05-10       28\n",
       "1         1           Aria001  2019-03-12  2019-03-12        1\n",
       "2        26  GUOJING965859953  2018-03-24  2018-09-23      184\n",
       "3         2         H10151216  2018-07-07  2018-07-07        1\n",
       "4       231     Joyce88272887  2018-05-13  2019-02-26      290"
      ]
     },
     "execution_count": 261,
     "metadata": {},
     "output_type": "execute_result"
    }
   ],
   "source": [
    "l1 = list()\n",
    "l2 = list()\n",
    "l3 = list()\n",
    "for i in range(0,len(df_u90)):\n",
    "    l1.append(df1.loc[(df1['talker_id'] == df_u90['talker_id'][i]) & (df1['chatroom'] == '5556417190@chatroom'),'date'].min())\n",
    "for i in range(0,len(df_u90)):\n",
    "    l2.append(df1.loc[(df1['talker_id'] == df_u90['talker_id'][i]) & (df1['chatroom'] == '5556417190@chatroom'),'date'].max())\n",
    "df_u90['min_date']=pd.DataFrame(l1)\n",
    "df_u90['max_date']=pd.DataFrame(l2)\n",
    "\n",
    "for i in range(0,len(df_u90)):\n",
    "    l3.append((datetime.strptime(df_u90['max_date'][i], \"%Y-%m-%d\")-datetime.strptime(df_u90['min_date'][i], \"%Y-%m-%d\")).days+1)\n",
    "df_u90['max_min'] = pd.DataFrame(l3)\n",
    "df_u90.head()"
   ]
  },
  {
   "cell_type": "code",
   "execution_count": 262,
   "metadata": {},
   "outputs": [
    {
     "data": {
      "text/html": [
       "<div>\n",
       "<style scoped>\n",
       "    .dataframe tbody tr th:only-of-type {\n",
       "        vertical-align: middle;\n",
       "    }\n",
       "\n",
       "    .dataframe tbody tr th {\n",
       "        vertical-align: top;\n",
       "    }\n",
       "\n",
       "    .dataframe thead th {\n",
       "        text-align: right;\n",
       "    }\n",
       "</style>\n",
       "<table border=\"1\" class=\"dataframe\">\n",
       "  <thead>\n",
       "    <tr style=\"text-align: right;\">\n",
       "      <th></th>\n",
       "      <th>talk_cnt</th>\n",
       "      <th>talker_id</th>\n",
       "      <th>min_date</th>\n",
       "      <th>max_date</th>\n",
       "      <th>max_min</th>\n",
       "    </tr>\n",
       "  </thead>\n",
       "  <tbody>\n",
       "    <tr>\n",
       "      <th>0</th>\n",
       "      <td>241</td>\n",
       "      <td>BHY578343958</td>\n",
       "      <td>2018-08-10</td>\n",
       "      <td>2019-03-14</td>\n",
       "      <td>217</td>\n",
       "    </tr>\n",
       "    <tr>\n",
       "      <th>1</th>\n",
       "      <td>4</td>\n",
       "      <td>Fei675123358</td>\n",
       "      <td>2018-08-10</td>\n",
       "      <td>2018-08-10</td>\n",
       "      <td>1</td>\n",
       "    </tr>\n",
       "    <tr>\n",
       "      <th>2</th>\n",
       "      <td>53</td>\n",
       "      <td>Foolish-Bird</td>\n",
       "      <td>2018-10-07</td>\n",
       "      <td>2018-12-01</td>\n",
       "      <td>56</td>\n",
       "    </tr>\n",
       "    <tr>\n",
       "      <th>3</th>\n",
       "      <td>4</td>\n",
       "      <td>LM191179901</td>\n",
       "      <td>2018-11-19</td>\n",
       "      <td>2018-11-21</td>\n",
       "      <td>3</td>\n",
       "    </tr>\n",
       "    <tr>\n",
       "      <th>4</th>\n",
       "      <td>4</td>\n",
       "      <td>LRY20030813</td>\n",
       "      <td>2018-08-30</td>\n",
       "      <td>2019-02-04</td>\n",
       "      <td>159</td>\n",
       "    </tr>\n",
       "  </tbody>\n",
       "</table>\n",
       "</div>"
      ],
      "text/plain": [
       "   talk_cnt     talker_id    min_date    max_date  max_min\n",
       "0       241  BHY578343958  2018-08-10  2019-03-14      217\n",
       "1         4  Fei675123358  2018-08-10  2018-08-10        1\n",
       "2        53  Foolish-Bird  2018-10-07  2018-12-01       56\n",
       "3         4   LM191179901  2018-11-19  2018-11-21        3\n",
       "4         4   LRY20030813  2018-08-30  2019-02-04      159"
      ]
     },
     "execution_count": 262,
     "metadata": {},
     "output_type": "execute_result"
    }
   ],
   "source": [
    "l1 = list()\n",
    "for i in range(0,len(df_u12)):\n",
    "    l1.append(df1.loc[(df1['talker_id'] == df_u12['talker_id'][i]) & (df1['chatroom'] == '5007452012@chatroom'), 'date'].min())\n",
    "l2 = list()\n",
    "for i in range(0,len(df_u12)):\n",
    "    l2.append(df1.loc[(df1['talker_id'] == df_u12['talker_id'][i]) & (df1['chatroom'] == '5007452012@chatroom'), 'date'].max())\n",
    "df_u12['min_date']=pd.DataFrame(l1)\n",
    "df_u12['max_date']=pd.DataFrame(l2)\n",
    "l3 = list()\n",
    "for i in range(0,len(df_u12)):\n",
    "    l3.append((datetime.strptime(df_u12['max_date'][i], \"%Y-%m-%d\")-datetime.strptime(df_u12['min_date'][i], \"%Y-%m-%d\")).days+1)\n",
    "df_u12['max_min'] = pd.DataFrame(l3)\n",
    "df_u12.head()"
   ]
  },
  {
   "cell_type": "code",
   "execution_count": 263,
   "metadata": {},
   "outputs": [
    {
     "name": "stdout",
     "output_type": "stream",
     "text": [
      "AxesSubplot(0.125,0.125;0.775x0.755)\n",
      "AxesSubplot(0.125,0.125;0.775x0.755)\n"
     ]
    },
    {
     "data": {
      "image/png": "[encoded data removed]",
      "text/plain": [
       "<Figure size 432x288 with 1 Axes>"
      ]
     },
     "metadata": {
      "needs_background": "light"
     },
     "output_type": "display_data"
    }
   ],
   "source": [
    "print(df_u90.max_min.hist(bins = 100))\n",
    "print(df_u12.max_min.hist(bins = 100))"
   ]
  },
  {
   "cell_type": "code",
   "execution_count": 264,
   "metadata": {},
   "outputs": [
    {
     "data": {
      "text/plain": [
       "<matplotlib.axes._subplots.AxesSubplot at 0x1a1d646278>"
      ]
     },
     "execution_count": 264,
     "metadata": {},
     "output_type": "execute_result"
    },
    {
     "data": {
      "image/png": "[encoded data removed]",
      "text/plain": [
       "<Figure size 432x288 with 1 Axes>"
      ]
     },
     "metadata": {
      "needs_background": "light"
     },
     "output_type": "display_data"
    }
   ],
   "source": [
    "sns.distplot(df_u90.max_min)\n",
    "sns.distplot(df_u12.max_min)"
   ]
  },
  {
   "cell_type": "code",
   "execution_count": 265,
   "metadata": {},
   "outputs": [
    {
     "data": {
      "text/plain": [
       "('2019-03-12', '2018-01-31', '2019-03-11', '2018-07-17')"
      ]
     },
     "execution_count": 265,
     "metadata": {},
     "output_type": "execute_result"
    }
   ],
   "source": [
    "df_u90.min_date.max(),df_u90.min_date.min(),df_u12.min_date.max(),df_u12.min_date.min()"
   ]
  },
  {
   "cell_type": "code",
   "execution_count": 266,
   "metadata": {},
   "outputs": [
    {
     "data": {
      "text/plain": [
       "('2019-03-14', '2018-02-23', '2019-03-14', '2018-07-17')"
      ]
     },
     "execution_count": 266,
     "metadata": {},
     "output_type": "execute_result"
    }
   ],
   "source": [
    "df_u90.max_date.max(),df_u90.max_date.min(),df_u12.max_date.max(),df_u12.max_date.min()"
   ]
  },
  {
   "cell_type": "markdown",
   "metadata": {},
   "source": [
    "### observed标记，max_date与最后观察日期'2019-03-14'的差值超过60天，即churn（流失）"
   ]
  },
  {
   "cell_type": "code",
   "execution_count": 267,
   "metadata": {},
   "outputs": [],
   "source": [
    "l2 = list()\n",
    "for i in range(0,len(df_u90)):\n",
    "    diff=0\n",
    "    is_churn = 0\n",
    "    diff = (datetime.strptime('2019-03-14', \"%Y-%m-%d\")-datetime.strptime(df_u90['max_date'][i], \"%Y-%m-%d\")).days\n",
    "    if diff>=30:\n",
    "        is_churn=1\n",
    "    l2.append(is_churn)"
   ]
  },
  {
   "cell_type": "code",
   "execution_count": 268,
   "metadata": {},
   "outputs": [
    {
     "data": {
      "text/plain": [
       "[1, 0, 1, 1, 0, 1, 1, 1, 0, 1]"
      ]
     },
     "execution_count": 268,
     "metadata": {},
     "output_type": "execute_result"
    }
   ],
   "source": [
    "l2[:10]"
   ]
  },
  {
   "cell_type": "code",
   "execution_count": 269,
   "metadata": {},
   "outputs": [],
   "source": [
    "df_u90['observed']=pd.DataFrame(l2)"
   ]
  },
  {
   "cell_type": "code",
   "execution_count": 270,
   "metadata": {},
   "outputs": [],
   "source": [
    "l2 = list()\n",
    "for i in range(0,len(df_u12)):\n",
    "    diff=0\n",
    "    is_churn = 0\n",
    "    diff = (datetime.strptime('2019-03-14', \"%Y-%m-%d\")-datetime.strptime(df_u12['max_date'][i], \"%Y-%m-%d\")).days\n",
    "    if diff>=60:\n",
    "        is_churn=1\n",
    "    l2.append(is_churn)\n",
    "df_u12['observed']=pd.DataFrame(l2)"
   ]
  },
  {
   "cell_type": "code",
   "execution_count": 271,
   "metadata": {},
   "outputs": [
    {
     "data": {
      "text/plain": [
       "count    617.000000\n",
       "mean     124.215559\n",
       "std      112.721329\n",
       "min        1.000000\n",
       "25%       10.000000\n",
       "50%      105.000000\n",
       "75%      217.000000\n",
       "max      397.000000\n",
       "Name: max_min, dtype: float64"
      ]
     },
     "execution_count": 271,
     "metadata": {},
     "output_type": "execute_result"
    }
   ],
   "source": [
    "df_u90.max_min.describe()"
   ]
  },
  {
   "cell_type": "code",
   "execution_count": 272,
   "metadata": {},
   "outputs": [
    {
     "data": {
      "text/plain": [
       "count    514.000000\n",
       "mean      67.879377\n",
       "std       67.402005\n",
       "min        1.000000\n",
       "25%        4.000000\n",
       "50%       52.000000\n",
       "75%      110.000000\n",
       "max      240.000000\n",
       "Name: max_min, dtype: float64"
      ]
     },
     "execution_count": 272,
     "metadata": {},
     "output_type": "execute_result"
    }
   ],
   "source": [
    "df_u12.max_min.describe()"
   ]
  },
  {
   "cell_type": "code",
   "execution_count": 273,
   "metadata": {},
   "outputs": [
    {
     "data": {
      "text/html": [
       "<div>\n",
       "<style scoped>\n",
       "    .dataframe tbody tr th:only-of-type {\n",
       "        vertical-align: middle;\n",
       "    }\n",
       "\n",
       "    .dataframe tbody tr th {\n",
       "        vertical-align: top;\n",
       "    }\n",
       "\n",
       "    .dataframe thead th {\n",
       "        text-align: right;\n",
       "    }\n",
       "</style>\n",
       "<table border=\"1\" class=\"dataframe\">\n",
       "  <thead>\n",
       "    <tr style=\"text-align: right;\">\n",
       "      <th></th>\n",
       "      <th>talk_cnt</th>\n",
       "      <th>talker_id</th>\n",
       "      <th>min_date</th>\n",
       "      <th>max_date</th>\n",
       "      <th>max_min</th>\n",
       "      <th>observed</th>\n",
       "    </tr>\n",
       "  </thead>\n",
       "  <tbody>\n",
       "    <tr>\n",
       "      <th>0</th>\n",
       "      <td>241</td>\n",
       "      <td>BHY578343958</td>\n",
       "      <td>2018-08-10</td>\n",
       "      <td>2019-03-14</td>\n",
       "      <td>217</td>\n",
       "      <td>0</td>\n",
       "    </tr>\n",
       "    <tr>\n",
       "      <th>1</th>\n",
       "      <td>4</td>\n",
       "      <td>Fei675123358</td>\n",
       "      <td>2018-08-10</td>\n",
       "      <td>2018-08-10</td>\n",
       "      <td>1</td>\n",
       "      <td>1</td>\n",
       "    </tr>\n",
       "    <tr>\n",
       "      <th>2</th>\n",
       "      <td>53</td>\n",
       "      <td>Foolish-Bird</td>\n",
       "      <td>2018-10-07</td>\n",
       "      <td>2018-12-01</td>\n",
       "      <td>56</td>\n",
       "      <td>1</td>\n",
       "    </tr>\n",
       "    <tr>\n",
       "      <th>3</th>\n",
       "      <td>4</td>\n",
       "      <td>LM191179901</td>\n",
       "      <td>2018-11-19</td>\n",
       "      <td>2018-11-21</td>\n",
       "      <td>3</td>\n",
       "      <td>1</td>\n",
       "    </tr>\n",
       "    <tr>\n",
       "      <th>4</th>\n",
       "      <td>4</td>\n",
       "      <td>LRY20030813</td>\n",
       "      <td>2018-08-30</td>\n",
       "      <td>2019-02-04</td>\n",
       "      <td>159</td>\n",
       "      <td>0</td>\n",
       "    </tr>\n",
       "  </tbody>\n",
       "</table>\n",
       "</div>"
      ],
      "text/plain": [
       "   talk_cnt     talker_id    min_date    max_date  max_min  observed\n",
       "0       241  BHY578343958  2018-08-10  2019-03-14      217         0\n",
       "1         4  Fei675123358  2018-08-10  2018-08-10        1         1\n",
       "2        53  Foolish-Bird  2018-10-07  2018-12-01       56         1\n",
       "3         4   LM191179901  2018-11-19  2018-11-21        3         1\n",
       "4         4   LRY20030813  2018-08-30  2019-02-04      159         0"
      ]
     },
     "execution_count": 273,
     "metadata": {},
     "output_type": "execute_result"
    }
   ],
   "source": [
    "df_u12.head()"
   ]
  },
  {
   "cell_type": "markdown",
   "metadata": {},
   "source": [
    "#### 合并at数据"
   ]
  },
  {
   "cell_type": "code",
   "execution_count": 274,
   "metadata": {},
   "outputs": [],
   "source": [
    "df_at = pd.read_csv('data//at_result.csv',encoding = 'utf-8')"
   ]
  },
  {
   "cell_type": "code",
   "execution_count": 275,
   "metadata": {},
   "outputs": [
    {
     "data": {
      "text/html": [
       "<div>\n",
       "<style scoped>\n",
       "    .dataframe tbody tr th:only-of-type {\n",
       "        vertical-align: middle;\n",
       "    }\n",
       "\n",
       "    .dataframe tbody tr th {\n",
       "        vertical-align: top;\n",
       "    }\n",
       "\n",
       "    .dataframe thead th {\n",
       "        text-align: right;\n",
       "    }\n",
       "</style>\n",
       "<table border=\"1\" class=\"dataframe\">\n",
       "  <thead>\n",
       "    <tr style=\"text-align: right;\">\n",
       "      <th></th>\n",
       "      <th>talker_id</th>\n",
       "      <th>nickname</th>\n",
       "      <th>at_cnt</th>\n",
       "      <th>group</th>\n",
       "    </tr>\n",
       "  </thead>\n",
       "  <tbody>\n",
       "    <tr>\n",
       "      <th>0</th>\n",
       "      <td>wxid_psmmfcuyrvie21</td>\n",
       "      <td>我是你的大白丶</td>\n",
       "      <td>26</td>\n",
       "      <td>1</td>\n",
       "    </tr>\n",
       "    <tr>\n",
       "      <th>1</th>\n",
       "      <td>sujie9988</td>\n",
       "      <td>德国莱丽莎</td>\n",
       "      <td>1</td>\n",
       "      <td>1</td>\n",
       "    </tr>\n",
       "    <tr>\n",
       "      <th>2</th>\n",
       "      <td>wxid_nr9f78yoe69421</td>\n",
       "      <td>群</td>\n",
       "      <td>0</td>\n",
       "      <td>1</td>\n",
       "    </tr>\n",
       "    <tr>\n",
       "      <th>3</th>\n",
       "      <td>limuhao001</td>\n",
       "      <td>Mr李</td>\n",
       "      <td>13</td>\n",
       "      <td>1</td>\n",
       "    </tr>\n",
       "    <tr>\n",
       "      <th>4</th>\n",
       "      <td>wxid_pesj04yoden112</td>\n",
       "      <td>NaN</td>\n",
       "      <td>0</td>\n",
       "      <td>1</td>\n",
       "    </tr>\n",
       "  </tbody>\n",
       "</table>\n",
       "</div>"
      ],
      "text/plain": [
       "             talker_id nickname  at_cnt  group\n",
       "0  wxid_psmmfcuyrvie21  我是你的大白丶      26      1\n",
       "1            sujie9988    德国莱丽莎       1      1\n",
       "2  wxid_nr9f78yoe69421        群       0      1\n",
       "3           limuhao001      Mr李      13      1\n",
       "4  wxid_pesj04yoden112      NaN       0      1"
      ]
     },
     "execution_count": 275,
     "metadata": {},
     "output_type": "execute_result"
    }
   ],
   "source": [
    "df_at.head()"
   ]
  },
  {
   "cell_type": "code",
   "execution_count": 276,
   "metadata": {},
   "outputs": [
    {
     "data": {
      "text/plain": [
       "(617, 514, 523, 623)"
      ]
     },
     "execution_count": 276,
     "metadata": {},
     "output_type": "execute_result"
    }
   ],
   "source": [
    "len(df_u90),len(df_u12),len(df_at[df_at.group== 1]),len(df_at[df_at.group == 2])"
   ]
  },
  {
   "cell_type": "code",
   "execution_count": 277,
   "metadata": {},
   "outputs": [
    {
     "name": "stderr",
     "output_type": "stream",
     "text": [
      "//anaconda3/lib/python3.7/site-packages/ipykernel_launcher.py:5: UserWarning: Boolean Series key will be reindexed to match DataFrame index.\n",
      "  \"\"\"\n"
     ]
    },
    {
     "data": {
      "text/html": [
       "<div>\n",
       "<style scoped>\n",
       "    .dataframe tbody tr th:only-of-type {\n",
       "        vertical-align: middle;\n",
       "    }\n",
       "\n",
       "    .dataframe tbody tr th {\n",
       "        vertical-align: top;\n",
       "    }\n",
       "\n",
       "    .dataframe thead th {\n",
       "        text-align: right;\n",
       "    }\n",
       "</style>\n",
       "<table border=\"1\" class=\"dataframe\">\n",
       "  <thead>\n",
       "    <tr style=\"text-align: right;\">\n",
       "      <th></th>\n",
       "      <th>talk_cnt</th>\n",
       "      <th>talker_id</th>\n",
       "      <th>min_date</th>\n",
       "      <th>max_date</th>\n",
       "      <th>max_min</th>\n",
       "      <th>observed</th>\n",
       "      <th>act_days</th>\n",
       "    </tr>\n",
       "  </thead>\n",
       "  <tbody>\n",
       "    <tr>\n",
       "      <th>0</th>\n",
       "      <td>77</td>\n",
       "      <td>A19920515001</td>\n",
       "      <td>2018-04-13</td>\n",
       "      <td>2018-05-10</td>\n",
       "      <td>28</td>\n",
       "      <td>1</td>\n",
       "      <td>8</td>\n",
       "    </tr>\n",
       "    <tr>\n",
       "      <th>1</th>\n",
       "      <td>1</td>\n",
       "      <td>Aria001</td>\n",
       "      <td>2019-03-12</td>\n",
       "      <td>2019-03-12</td>\n",
       "      <td>1</td>\n",
       "      <td>0</td>\n",
       "      <td>1</td>\n",
       "    </tr>\n",
       "    <tr>\n",
       "      <th>2</th>\n",
       "      <td>26</td>\n",
       "      <td>GUOJING965859953</td>\n",
       "      <td>2018-03-24</td>\n",
       "      <td>2018-09-23</td>\n",
       "      <td>184</td>\n",
       "      <td>1</td>\n",
       "      <td>9</td>\n",
       "    </tr>\n",
       "    <tr>\n",
       "      <th>3</th>\n",
       "      <td>2</td>\n",
       "      <td>H10151216</td>\n",
       "      <td>2018-07-07</td>\n",
       "      <td>2018-07-07</td>\n",
       "      <td>1</td>\n",
       "      <td>1</td>\n",
       "      <td>1</td>\n",
       "    </tr>\n",
       "    <tr>\n",
       "      <th>4</th>\n",
       "      <td>231</td>\n",
       "      <td>Joyce88272887</td>\n",
       "      <td>2018-05-13</td>\n",
       "      <td>2019-02-26</td>\n",
       "      <td>290</td>\n",
       "      <td>0</td>\n",
       "      <td>41</td>\n",
       "    </tr>\n",
       "  </tbody>\n",
       "</table>\n",
       "</div>"
      ],
      "text/plain": [
       "   talk_cnt         talker_id    min_date    max_date  max_min  observed  \\\n",
       "0        77      A19920515001  2018-04-13  2018-05-10       28         1   \n",
       "1         1           Aria001  2019-03-12  2019-03-12        1         0   \n",
       "2        26  GUOJING965859953  2018-03-24  2018-09-23      184         1   \n",
       "3         2         H10151216  2018-07-07  2018-07-07        1         1   \n",
       "4       231     Joyce88272887  2018-05-13  2019-02-26      290         0   \n",
       "\n",
       "   act_days  \n",
       "0         8  \n",
       "1         1  \n",
       "2         9  \n",
       "3         1  \n",
       "4        41  "
      ]
     },
     "execution_count": 277,
     "metadata": {},
     "output_type": "execute_result"
    }
   ],
   "source": [
    "# 添加活跃天数\n",
    "l2 = list()\n",
    "for i in range(0,len(df_u90)):\n",
    "    lx=0\n",
    "    lx = len(df1[df1['talker_id'] == df_u90['talker_id'][i]][df1['chatroom'] == '5556417190@chatroom'].date.unique())\n",
    "    l2.append(lx)\n",
    "df_u90['act_days']=pd.DataFrame(l2)\n",
    "df_u90.head()"
   ]
  },
  {
   "cell_type": "code",
   "execution_count": 278,
   "metadata": {},
   "outputs": [
    {
     "name": "stderr",
     "output_type": "stream",
     "text": [
      "//anaconda3/lib/python3.7/site-packages/ipykernel_launcher.py:4: UserWarning: Boolean Series key will be reindexed to match DataFrame index.\n",
      "  after removing the cwd from sys.path.\n"
     ]
    }
   ],
   "source": [
    "l2 = list()\n",
    "for i in range(0,len(df_u12)):\n",
    "    lx=0\n",
    "    lx = len(df1[df1['talker_id'] == df_u12['talker_id'][i]][df1['chatroom'] == '5007452012@chatroom'].date.unique())\n",
    "    l2.append(lx)\n",
    "df_u12['act_days']=pd.DataFrame(l2)"
   ]
  },
  {
   "cell_type": "code",
   "execution_count": 279,
   "metadata": {},
   "outputs": [],
   "source": [
    "df_90 = pd.merge(df_u90,df_at[df_at.group == 2],on = \"talker_id\",how = \"left\")\n",
    "df_12 = pd.merge(df_u12,df_at[df_at.group == 1],on = \"talker_id\",how = \"left\")"
   ]
  },
  {
   "cell_type": "code",
   "execution_count": 280,
   "metadata": {},
   "outputs": [
    {
     "data": {
      "text/html": [
       "<div>\n",
       "<style scoped>\n",
       "    .dataframe tbody tr th:only-of-type {\n",
       "        vertical-align: middle;\n",
       "    }\n",
       "\n",
       "    .dataframe tbody tr th {\n",
       "        vertical-align: top;\n",
       "    }\n",
       "\n",
       "    .dataframe thead th {\n",
       "        text-align: right;\n",
       "    }\n",
       "</style>\n",
       "<table border=\"1\" class=\"dataframe\">\n",
       "  <thead>\n",
       "    <tr style=\"text-align: right;\">\n",
       "      <th></th>\n",
       "      <th>talk_cnt</th>\n",
       "      <th>talker_id</th>\n",
       "      <th>min_date</th>\n",
       "      <th>max_date</th>\n",
       "      <th>max_min</th>\n",
       "      <th>observed</th>\n",
       "      <th>act_days</th>\n",
       "      <th>nickname</th>\n",
       "      <th>at_cnt</th>\n",
       "      <th>group</th>\n",
       "    </tr>\n",
       "  </thead>\n",
       "  <tbody>\n",
       "    <tr>\n",
       "      <th>0</th>\n",
       "      <td>77</td>\n",
       "      <td>A19920515001</td>\n",
       "      <td>2018-04-13</td>\n",
       "      <td>2018-05-10</td>\n",
       "      <td>28</td>\n",
       "      <td>1</td>\n",
       "      <td>8</td>\n",
       "      <td>NaN</td>\n",
       "      <td>0.0</td>\n",
       "      <td>2.0</td>\n",
       "    </tr>\n",
       "    <tr>\n",
       "      <th>1</th>\n",
       "      <td>1</td>\n",
       "      <td>Aria001</td>\n",
       "      <td>2019-03-12</td>\n",
       "      <td>2019-03-12</td>\n",
       "      <td>1</td>\n",
       "      <td>0</td>\n",
       "      <td>1</td>\n",
       "      <td>A?仰望??</td>\n",
       "      <td>1.0</td>\n",
       "      <td>2.0</td>\n",
       "    </tr>\n",
       "    <tr>\n",
       "      <th>2</th>\n",
       "      <td>26</td>\n",
       "      <td>GUOJING965859953</td>\n",
       "      <td>2018-03-24</td>\n",
       "      <td>2018-09-23</td>\n",
       "      <td>184</td>\n",
       "      <td>1</td>\n",
       "      <td>9</td>\n",
       "      <td>A开锁、换锁、修卷帘门15911556744</td>\n",
       "      <td>3.0</td>\n",
       "      <td>2.0</td>\n",
       "    </tr>\n",
       "    <tr>\n",
       "      <th>3</th>\n",
       "      <td>2</td>\n",
       "      <td>H10151216</td>\n",
       "      <td>2018-07-07</td>\n",
       "      <td>2018-07-07</td>\n",
       "      <td>1</td>\n",
       "      <td>1</td>\n",
       "      <td>1</td>\n",
       "      <td>时光静好2?1?</td>\n",
       "      <td>0.0</td>\n",
       "      <td>2.0</td>\n",
       "    </tr>\n",
       "    <tr>\n",
       "      <th>4</th>\n",
       "      <td>231</td>\n",
       "      <td>Joyce88272887</td>\n",
       "      <td>2018-05-13</td>\n",
       "      <td>2019-02-26</td>\n",
       "      <td>290</td>\n",
       "      <td>0</td>\n",
       "      <td>41</td>\n",
       "      <td>Joyce</td>\n",
       "      <td>10.0</td>\n",
       "      <td>2.0</td>\n",
       "    </tr>\n",
       "  </tbody>\n",
       "</table>\n",
       "</div>"
      ],
      "text/plain": [
       "   talk_cnt         talker_id    min_date    max_date  max_min  observed  \\\n",
       "0        77      A19920515001  2018-04-13  2018-05-10       28         1   \n",
       "1         1           Aria001  2019-03-12  2019-03-12        1         0   \n",
       "2        26  GUOJING965859953  2018-03-24  2018-09-23      184         1   \n",
       "3         2         H10151216  2018-07-07  2018-07-07        1         1   \n",
       "4       231     Joyce88272887  2018-05-13  2019-02-26      290         0   \n",
       "\n",
       "   act_days                nickname  at_cnt  group  \n",
       "0         8                     NaN     0.0    2.0  \n",
       "1         1                  A?仰望??     1.0    2.0  \n",
       "2         9  A开锁、换锁、修卷帘门15911556744     3.0    2.0  \n",
       "3         1                时光静好2?1?     0.0    2.0  \n",
       "4        41                   Joyce    10.0    2.0  "
      ]
     },
     "execution_count": 280,
     "metadata": {},
     "output_type": "execute_result"
    }
   ],
   "source": [
    "df_90.head()"
   ]
  },
  {
   "cell_type": "code",
   "execution_count": 281,
   "metadata": {},
   "outputs": [],
   "source": [
    "#'5556417190@chatroom','5007452012@chatroom'\n",
    "df_12.loc[:,'group'] = '12'\n",
    "df_90.loc[:,'group'] = '90'"
   ]
  },
  {
   "cell_type": "code",
   "execution_count": null,
   "metadata": {},
   "outputs": [],
   "source": [
    "# @别人数据\n",
    "l = list()\n",
    "for i in range(0,len(df1['content'])):\n",
    "    if '@' in df1['content'][i]:\n",
    "        tt=1\n",
    "        l.append(tt)\n",
    "    else:\n",
    "        tt = 0\n",
    "        l.append(tt)\n",
    "df1['if_at']=pd.DataFrame(l)"
   ]
  },
  {
   "cell_type": "code",
   "execution_count": 292,
   "metadata": {},
   "outputs": [],
   "source": [
    "l2 = list()\n",
    "df2 = df1[df1.chatroom=='5007452012@chatroom']\n",
    "for i in range(0,len(df_12)):\n",
    "    l2.append(df2.loc[(df2['talker_id'] == df_12['talker_id'][i]),'if_at'].sum())\n",
    "df_12['if_at'] = pd.DataFrame(l2)"
   ]
  },
  {
   "cell_type": "code",
   "execution_count": 293,
   "metadata": {},
   "outputs": [],
   "source": [
    "l2 = list()\n",
    "df2 = df1[df1.chatroom=='5556417190@chatroom']\n",
    "for i in range(0,len(df_90)):\n",
    "    l2.append(df2.loc[(df2['talker_id'] == df_90['talker_id'][i]),'if_at'].sum())\n",
    "df_90['if_at'] = pd.DataFrame(l2)"
   ]
  },
  {
   "cell_type": "code",
   "execution_count": 294,
   "metadata": {},
   "outputs": [],
   "source": [
    "df_sum = pd.concat([df_12,df_90],axis = 0)"
   ]
  },
  {
   "cell_type": "code",
   "execution_count": 295,
   "metadata": {},
   "outputs": [
    {
     "data": {
      "text/plain": [
       "group\n",
       "12    514\n",
       "90    617\n",
       "Name: talker_id, dtype: int64"
      ]
     },
     "execution_count": 295,
     "metadata": {},
     "output_type": "execute_result"
    }
   ],
   "source": [
    "df_sum.groupby('group').talker_id.count()"
   ]
  },
  {
   "cell_type": "code",
   "execution_count": 206,
   "metadata": {},
   "outputs": [
    {
     "data": {
      "text/html": [
       "<div>\n",
       "<style scoped>\n",
       "    .dataframe tbody tr th:only-of-type {\n",
       "        vertical-align: middle;\n",
       "    }\n",
       "\n",
       "    .dataframe tbody tr th {\n",
       "        vertical-align: top;\n",
       "    }\n",
       "\n",
       "    .dataframe thead th {\n",
       "        text-align: right;\n",
       "    }\n",
       "</style>\n",
       "<table border=\"1\" class=\"dataframe\">\n",
       "  <thead>\n",
       "    <tr style=\"text-align: right;\">\n",
       "      <th></th>\n",
       "      <th>talk_cnt</th>\n",
       "      <th>talker_id</th>\n",
       "      <th>min_date</th>\n",
       "      <th>max_date</th>\n",
       "      <th>max_min</th>\n",
       "      <th>observed</th>\n",
       "      <th>act_days</th>\n",
       "      <th>nickname</th>\n",
       "      <th>at_cnt</th>\n",
       "      <th>group</th>\n",
       "      <th>mean_talk</th>\n",
       "      <th>if_at</th>\n",
       "    </tr>\n",
       "  </thead>\n",
       "  <tbody>\n",
       "    <tr>\n",
       "      <th>0</th>\n",
       "      <td>241</td>\n",
       "      <td>BHY578343958</td>\n",
       "      <td>2018-08-10</td>\n",
       "      <td>2019-03-14</td>\n",
       "      <td>217</td>\n",
       "      <td>0</td>\n",
       "      <td>29</td>\n",
       "      <td>鲍女士??</td>\n",
       "      <td>0.0</td>\n",
       "      <td>12</td>\n",
       "      <td>8.310345</td>\n",
       "      <td>93</td>\n",
       "    </tr>\n",
       "    <tr>\n",
       "      <th>1</th>\n",
       "      <td>4</td>\n",
       "      <td>Fei675123358</td>\n",
       "      <td>2018-08-10</td>\n",
       "      <td>2018-08-10</td>\n",
       "      <td>1</td>\n",
       "      <td>1</td>\n",
       "      <td>1</td>\n",
       "      <td>小喵喵</td>\n",
       "      <td>0.0</td>\n",
       "      <td>12</td>\n",
       "      <td>4.000000</td>\n",
       "      <td>4</td>\n",
       "    </tr>\n",
       "    <tr>\n",
       "      <th>2</th>\n",
       "      <td>53</td>\n",
       "      <td>Foolish-Bird</td>\n",
       "      <td>2018-10-07</td>\n",
       "      <td>2018-12-01</td>\n",
       "      <td>56</td>\n",
       "      <td>1</td>\n",
       "      <td>8</td>\n",
       "      <td>英德广源建筑机电（九龙）</td>\n",
       "      <td>0.0</td>\n",
       "      <td>12</td>\n",
       "      <td>6.625000</td>\n",
       "      <td>7</td>\n",
       "    </tr>\n",
       "    <tr>\n",
       "      <th>3</th>\n",
       "      <td>4</td>\n",
       "      <td>LM191179901</td>\n",
       "      <td>2018-11-19</td>\n",
       "      <td>2018-11-21</td>\n",
       "      <td>3</td>\n",
       "      <td>1</td>\n",
       "      <td>2</td>\n",
       "      <td>南南</td>\n",
       "      <td>2.0</td>\n",
       "      <td>12</td>\n",
       "      <td>2.000000</td>\n",
       "      <td>3</td>\n",
       "    </tr>\n",
       "    <tr>\n",
       "      <th>4</th>\n",
       "      <td>4</td>\n",
       "      <td>LRY20030813</td>\n",
       "      <td>2018-08-30</td>\n",
       "      <td>2019-02-04</td>\n",
       "      <td>159</td>\n",
       "      <td>0</td>\n",
       "      <td>3</td>\n",
       "      <td>。 。 。</td>\n",
       "      <td>0.0</td>\n",
       "      <td>12</td>\n",
       "      <td>1.333333</td>\n",
       "      <td>3</td>\n",
       "    </tr>\n",
       "    <tr>\n",
       "      <th>5</th>\n",
       "      <td>45</td>\n",
       "      <td>Lin-Love50003</td>\n",
       "      <td>2018-11-07</td>\n",
       "      <td>2019-03-05</td>\n",
       "      <td>119</td>\n",
       "      <td>0</td>\n",
       "      <td>12</td>\n",
       "      <td>淡色阳光</td>\n",
       "      <td>0.0</td>\n",
       "      <td>12</td>\n",
       "      <td>3.750000</td>\n",
       "      <td>11</td>\n",
       "    </tr>\n",
       "    <tr>\n",
       "      <th>6</th>\n",
       "      <td>6</td>\n",
       "      <td>Miye038748</td>\n",
       "      <td>2019-01-14</td>\n",
       "      <td>2019-01-23</td>\n",
       "      <td>10</td>\n",
       "      <td>0</td>\n",
       "      <td>2</td>\n",
       "      <td>NaN</td>\n",
       "      <td>0.0</td>\n",
       "      <td>12</td>\n",
       "      <td>3.000000</td>\n",
       "      <td>0</td>\n",
       "    </tr>\n",
       "    <tr>\n",
       "      <th>7</th>\n",
       "      <td>82</td>\n",
       "      <td>OCP-IP</td>\n",
       "      <td>2019-01-10</td>\n",
       "      <td>2019-03-11</td>\n",
       "      <td>61</td>\n",
       "      <td>0</td>\n",
       "      <td>12</td>\n",
       "      <td>回归自然</td>\n",
       "      <td>10.0</td>\n",
       "      <td>12</td>\n",
       "      <td>6.833333</td>\n",
       "      <td>5</td>\n",
       "    </tr>\n",
       "    <tr>\n",
       "      <th>8</th>\n",
       "      <td>34</td>\n",
       "      <td>ZXJ880912</td>\n",
       "      <td>2018-07-31</td>\n",
       "      <td>2019-03-05</td>\n",
       "      <td>218</td>\n",
       "      <td>0</td>\n",
       "      <td>15</td>\n",
       "      <td>娟娟赵????</td>\n",
       "      <td>5.0</td>\n",
       "      <td>12</td>\n",
       "      <td>2.266667</td>\n",
       "      <td>3</td>\n",
       "    </tr>\n",
       "    <tr>\n",
       "      <th>9</th>\n",
       "      <td>21</td>\n",
       "      <td>_</td>\n",
       "      <td>2018-07-17</td>\n",
       "      <td>2019-02-23</td>\n",
       "      <td>222</td>\n",
       "      <td>0</td>\n",
       "      <td>7</td>\n",
       "      <td>NaN</td>\n",
       "      <td>0.0</td>\n",
       "      <td>12</td>\n",
       "      <td>3.000000</td>\n",
       "      <td>18</td>\n",
       "    </tr>\n",
       "  </tbody>\n",
       "</table>\n",
       "</div>"
      ],
      "text/plain": [
       "   talk_cnt      talker_id    min_date    max_date  max_min  observed  \\\n",
       "0       241   BHY578343958  2018-08-10  2019-03-14      217         0   \n",
       "1         4   Fei675123358  2018-08-10  2018-08-10        1         1   \n",
       "2        53   Foolish-Bird  2018-10-07  2018-12-01       56         1   \n",
       "3         4    LM191179901  2018-11-19  2018-11-21        3         1   \n",
       "4         4    LRY20030813  2018-08-30  2019-02-04      159         0   \n",
       "5        45  Lin-Love50003  2018-11-07  2019-03-05      119         0   \n",
       "6         6     Miye038748  2019-01-14  2019-01-23       10         0   \n",
       "7        82         OCP-IP  2019-01-10  2019-03-11       61         0   \n",
       "8        34      ZXJ880912  2018-07-31  2019-03-05      218         0   \n",
       "9        21              _  2018-07-17  2019-02-23      222         0   \n",
       "\n",
       "   act_days      nickname  at_cnt group  mean_talk  if_at  \n",
       "0        29         鲍女士??     0.0    12   8.310345     93  \n",
       "1         1           小喵喵     0.0    12   4.000000      4  \n",
       "2         8  英德广源建筑机电（九龙）     0.0    12   6.625000      7  \n",
       "3         2            南南     2.0    12   2.000000      3  \n",
       "4         3         。 。 。     0.0    12   1.333333      3  \n",
       "5        12          淡色阳光     0.0    12   3.750000     11  \n",
       "6         2           NaN     0.0    12   3.000000      0  \n",
       "7        12          回归自然    10.0    12   6.833333      5  \n",
       "8        15       娟娟赵????     5.0    12   2.266667      3  \n",
       "9         7           NaN     0.0    12   3.000000     18  "
      ]
     },
     "execution_count": 206,
     "metadata": {},
     "output_type": "execute_result"
    }
   ],
   "source": [
    "df_sum[:10]"
   ]
  },
  {
   "cell_type": "code",
   "execution_count": 297,
   "metadata": {},
   "outputs": [],
   "source": [
    "df_sum.to_csv('data//data0326.csv',encoding = 'utf-8-sig',index = None)"
   ]
  },
  {
   "cell_type": "markdown",
   "metadata": {},
   "source": [
    "#### 生存曲线绘图"
   ]
  },
  {
   "cell_type": "code",
   "execution_count": 123,
   "metadata": {},
   "outputs": [
    {
     "data": {
      "text/plain": [
       "<matplotlib.legend.Legend at 0x1a1d967780>"
      ]
     },
     "execution_count": 123,
     "metadata": {},
     "output_type": "execute_result"
    },
    {
     "data": {
      "image/png": "[encoded data removed]",
      "text/plain": [
       "<Figure size 432x288 with 1 Axes>"
      ]
     },
     "metadata": {
      "needs_background": "light"
     },
     "output_type": "display_data"
    }
   ],
   "source": [
    "from lifelines import KaplanMeierFitter\n",
    "import matplotlib.pyplot as plt\n",
    "#\n",
    "plt.rcParams[\"font.family\"] = \"Times New Roman\"\n",
    "plt.rcParams.update({'font.size':12})\n",
    "\n",
    "kmf = KaplanMeierFitter()\n",
    "T = df_u90[\"max_min\"]\n",
    "E = df_u90[\"observed\"] # 0: unobserved, right censored; 1: observed, churn.\n",
    "kmf.fit(T, event_observed=E)\n",
    "kmf.plot(show_censors=True, censor_styles={'ms': 2, 'marker': 'x'}, color='k')\n",
    "plt.legend(['Censored data', 'Kaplan-Meier Estimate', 'Confidence interval'])"
   ]
  },
  {
   "cell_type": "code",
   "execution_count": 124,
   "metadata": {},
   "outputs": [
    {
     "data": {
      "text/plain": [
       "<matplotlib.legend.Legend at 0x1a1d9675f8>"
      ]
     },
     "execution_count": 124,
     "metadata": {},
     "output_type": "execute_result"
    },
    {
     "data": {
      "image/png": "[encoded data removed]",
      "text/plain": [
       "<Figure size 432x288 with 1 Axes>"
      ]
     },
     "metadata": {
      "needs_background": "light"
     },
     "output_type": "display_data"
    }
   ],
   "source": [
    "#df_u12\n",
    "plt.rcParams[\"font.family\"] = \"Times New Roman\"\n",
    "plt.rcParams.update({'font.size':12})\n",
    "\n",
    "kmf = KaplanMeierFitter()\n",
    "T = df_u12[\"max_min\"]\n",
    "E = df_u12[\"observed\"] # 0: unobserved, right censored; 1: observed, churn.\n",
    "kmf.fit(T, event_observed=E)\n",
    "kmf.plot(show_censors=True, censor_styles={'ms': 2, 'marker': 'x'}, color='k')\n",
    "plt.legend(['Censored data', 'Kaplan-Meier Estimate', 'Confidence interval'])"
   ]
  },
  {
   "cell_type": "code",
   "execution_count": 126,
   "metadata": {},
   "outputs": [
    {
     "data": {
      "image/png": "[encoded data removed]",
      "text/plain": [
       "<Figure size 432x288 with 1 Axes>"
      ]
     },
     "metadata": {
      "needs_background": "light"
     },
     "output_type": "display_data"
    }
   ],
   "source": [
    "# 多分组\n",
    "groups = df_sum['group']\n",
    "ix = (groups == '90')\n",
    "T = df_sum[\"max_min\"]\n",
    "E = df_sum[\"observed\"]\n",
    "kmf.fit(T[~ix], E[~ix], label='group12')\n",
    "ax = kmf.plot()\n",
    "\n",
    "kmf.fit(T[ix], E[ix], label='group90')\n",
    "ax = kmf.plot(ax=ax)"
   ]
  },
  {
   "cell_type": "markdown",
   "metadata": {},
   "source": [
    "#### model"
   ]
  },
  {
   "cell_type": "code",
   "execution_count": 121,
   "metadata": {},
   "outputs": [],
   "source": [
    "#df_sum = pd.read_csv('data//data0326.csv',encoding = 'utf-8')\n",
    "import numpy as np\n",
    "import pandas as pd\n",
    "import seaborn as sns\n",
    "import matplotlib.pyplot as plt\n",
    "from lifelines.datasets import load_waltons\n",
    "from lifelines import *\n",
    "from lifelines.utils import median_survival_times"
   ]
  },
  {
   "cell_type": "code",
   "execution_count": 298,
   "metadata": {},
   "outputs": [],
   "source": [
    "df_sum['at_cnt'] = df_sum['at_cnt'].fillna(0)\n",
    "df_sum['mean_talk']=df_sum['talk_cnt']/df_sum['act_days']"
   ]
  },
  {
   "cell_type": "code",
   "execution_count": 304,
   "metadata": {},
   "outputs": [
    {
     "data": {
      "text/plain": [
       "talk_cnt     0.212353\n",
       "max_min      1.000000\n",
       "observed    -0.222992\n",
       "act_days     0.554601\n",
       "at_cnt       0.162706\n",
       "if_at        0.320752\n",
       "mean_talk   -0.000057\n",
       "Name: max_min, dtype: float64"
      ]
     },
     "execution_count": 304,
     "metadata": {},
     "output_type": "execute_result"
    }
   ],
   "source": [
    "df_sum.corr()['max_min']"
   ]
  },
  {
   "cell_type": "code",
   "execution_count": 323,
   "metadata": {},
   "outputs": [],
   "source": [
    "# MinMax数据标准化\n",
    "from sklearn.preprocessing import MinMaxScaler\n",
    "scaler=MinMaxScaler()\n",
    "df_sum['0-1at_cnt']=scaler.fit_transform(df_sum['at_cnt'].values.reshape(-1,1))\n",
    "df_sum['0-1if_at']=scaler.fit_transform(df_sum['if_at'].values.reshape(-1,1))"
   ]
  },
  {
   "cell_type": "code",
   "execution_count": 324,
   "metadata": {},
   "outputs": [],
   "source": [
    "# Z-score标准化\n",
    "from sklearn.preprocessing import scale\n",
    "df_sum['Zat_cnt']=scale(df_sum['at_cnt'].values.reshape(-1,1))\n",
    "df_sum['Zif_at']=scale(df_sum['if_at'].values.reshape(-1,1))"
   ]
  },
  {
   "cell_type": "code",
   "execution_count": 325,
   "metadata": {},
   "outputs": [],
   "source": [
    "## normalizer 归一化\n",
    "from sklearn.preprocessing import Normalizer\n",
    "scaler=Normalizer()\n",
    "df_sum['nor_at_cnt']=scaler.fit_transform(df_sum['at_cnt'].values.reshape(1,-1))[0]\n",
    "df_sum['nor_if_at']=scaler.fit_transform(df_sum['if_at'].values.reshape(1,-1))[0]"
   ]
  },
  {
   "cell_type": "code",
   "execution_count": 332,
   "metadata": {},
   "outputs": [
    {
     "data": {
      "text/html": [
       "<div>\n",
       "<style scoped>\n",
       "    .dataframe tbody tr th:only-of-type {\n",
       "        vertical-align: middle;\n",
       "    }\n",
       "\n",
       "    .dataframe tbody tr th {\n",
       "        vertical-align: top;\n",
       "    }\n",
       "\n",
       "    .dataframe thead th {\n",
       "        text-align: right;\n",
       "    }\n",
       "</style>\n",
       "<table border=\"1\" class=\"dataframe\">\n",
       "  <tbody>\n",
       "    <tr>\n",
       "      <th>model</th>\n",
       "      <td>lifelines.CoxPHFitter</td>\n",
       "    </tr>\n",
       "    <tr>\n",
       "      <th>duration col</th>\n",
       "      <td>'max_min'</td>\n",
       "    </tr>\n",
       "    <tr>\n",
       "      <th>event col</th>\n",
       "      <td>'observed'</td>\n",
       "    </tr>\n",
       "    <tr>\n",
       "      <th>cluster col</th>\n",
       "      <td>'group'</td>\n",
       "    </tr>\n",
       "    <tr>\n",
       "      <th>robust variance</th>\n",
       "      <td>True</td>\n",
       "    </tr>\n",
       "    <tr>\n",
       "      <th>number of observations</th>\n",
       "      <td>1040</td>\n",
       "    </tr>\n",
       "    <tr>\n",
       "      <th>number of events observed</th>\n",
       "      <td>651</td>\n",
       "    </tr>\n",
       "    <tr>\n",
       "      <th>partial log-likelihood</th>\n",
       "      <td>-3781.48</td>\n",
       "    </tr>\n",
       "    <tr>\n",
       "      <th>time fit was run</th>\n",
       "      <td>2020-03-27 15:47:38 UTC</td>\n",
       "    </tr>\n",
       "  </tbody>\n",
       "</table>\n",
       "</div><table border=\"1\" class=\"dataframe\">\n",
       "  <thead>\n",
       "    <tr style=\"text-align: right;\">\n",
       "      <th></th>\n",
       "      <th>coef</th>\n",
       "      <th>exp(coef)</th>\n",
       "      <th>se(coef)</th>\n",
       "      <th>coef lower 95%</th>\n",
       "      <th>coef upper 95%</th>\n",
       "      <th>exp(coef) lower 95%</th>\n",
       "      <th>exp(coef) upper 95%</th>\n",
       "      <th>z</th>\n",
       "      <th>p</th>\n",
       "      <th>-log2(p)</th>\n",
       "    </tr>\n",
       "  </thead>\n",
       "  <tbody>\n",
       "    <tr>\n",
       "      <th>0-1at_cnt</th>\n",
       "      <td>-2.56</td>\n",
       "      <td>0.08</td>\n",
       "      <td>1.18</td>\n",
       "      <td>-4.88</td>\n",
       "      <td>-0.23</td>\n",
       "      <td>0.01</td>\n",
       "      <td>0.79</td>\n",
       "      <td>-2.16</td>\n",
       "      <td>0.03</td>\n",
       "      <td>5.01</td>\n",
       "    </tr>\n",
       "    <tr>\n",
       "      <th>0-1if_at</th>\n",
       "      <td>10.50</td>\n",
       "      <td>36168.86</td>\n",
       "      <td>5.47</td>\n",
       "      <td>-0.23</td>\n",
       "      <td>21.22</td>\n",
       "      <td>0.80</td>\n",
       "      <td>1.65e+09</td>\n",
       "      <td>1.92</td>\n",
       "      <td>0.06</td>\n",
       "      <td>4.18</td>\n",
       "    </tr>\n",
       "    <tr>\n",
       "      <th>talk_cnt</th>\n",
       "      <td>0.00</td>\n",
       "      <td>1.00</td>\n",
       "      <td>0.00</td>\n",
       "      <td>-0.00</td>\n",
       "      <td>0.00</td>\n",
       "      <td>1.00</td>\n",
       "      <td>1.00</td>\n",
       "      <td>1.66</td>\n",
       "      <td>0.10</td>\n",
       "      <td>3.37</td>\n",
       "    </tr>\n",
       "    <tr>\n",
       "      <th>act_days</th>\n",
       "      <td>-0.09</td>\n",
       "      <td>0.92</td>\n",
       "      <td>0.03</td>\n",
       "      <td>-0.14</td>\n",
       "      <td>-0.04</td>\n",
       "      <td>0.87</td>\n",
       "      <td>0.96</td>\n",
       "      <td>-3.40</td>\n",
       "      <td>&lt;0.005</td>\n",
       "      <td>10.54</td>\n",
       "    </tr>\n",
       "  </tbody>\n",
       "</table><div>\n",
       "<style scoped>\n",
       "    .dataframe tbody tr th:only-of-type {\n",
       "        vertical-align: middle;\n",
       "    }\n",
       "\n",
       "    .dataframe tbody tr th {\n",
       "        vertical-align: top;\n",
       "    }\n",
       "\n",
       "    .dataframe thead th {\n",
       "        text-align: right;\n",
       "    }\n",
       "</style>\n",
       "<table border=\"1\" class=\"dataframe\">\n",
       "  <tbody>\n",
       "    <tr>\n",
       "      <th>Concordance</th>\n",
       "      <td>0.84</td>\n",
       "    </tr>\n",
       "    <tr>\n",
       "      <th>Log-likelihood ratio test</th>\n",
       "      <td>389.77 on 4 df, -log2(p)=273.55</td>\n",
       "    </tr>\n",
       "  </tbody>\n",
       "</table>\n",
       "</div>"
      ],
      "text/plain": [
       "<IPython.core.display.HTML object>"
      ]
     },
     "metadata": {},
     "output_type": "display_data"
    }
   ],
   "source": [
    "#['mean_talk','max_min','observed','at_cnt','group','talk_cnt','act_days']\n",
    "# '0-1at_cnt','Zat_cnt','nor_at_cnt'\n",
    "# '0-1if_at','Zif_at','nor_if_at'\n",
    "df_ = df_sum[['max_min','observed','0-1at_cnt','0-1if_at','group','talk_cnt','act_days']]\n",
    "df_ = df_[df_.talk_cnt>1]\n",
    "cph = CoxPHFitter()\n",
    "cph.fit(df_, duration_col='max_min', event_col='observed',cluster_col='group') #strata=['mean_talk']\n",
    "cph.print_summary()  # access the results using cph.summary"
   ]
  },
  {
   "cell_type": "code",
   "execution_count": 333,
   "metadata": {},
   "outputs": [
    {
     "data": {
      "text/html": [
       "<div>\n",
       "<style scoped>\n",
       "    .dataframe tbody tr th:only-of-type {\n",
       "        vertical-align: middle;\n",
       "    }\n",
       "\n",
       "    .dataframe tbody tr th {\n",
       "        vertical-align: top;\n",
       "    }\n",
       "\n",
       "    .dataframe thead th {\n",
       "        text-align: right;\n",
       "    }\n",
       "</style>\n",
       "<table border=\"1\" class=\"dataframe\">\n",
       "  <tbody>\n",
       "    <tr>\n",
       "      <th>model</th>\n",
       "      <td>lifelines.CoxPHFitter</td>\n",
       "    </tr>\n",
       "    <tr>\n",
       "      <th>duration col</th>\n",
       "      <td>'max_min'</td>\n",
       "    </tr>\n",
       "    <tr>\n",
       "      <th>event col</th>\n",
       "      <td>'observed'</td>\n",
       "    </tr>\n",
       "    <tr>\n",
       "      <th>cluster col</th>\n",
       "      <td>'group'</td>\n",
       "    </tr>\n",
       "    <tr>\n",
       "      <th>robust variance</th>\n",
       "      <td>True</td>\n",
       "    </tr>\n",
       "    <tr>\n",
       "      <th>number of observations</th>\n",
       "      <td>1040</td>\n",
       "    </tr>\n",
       "    <tr>\n",
       "      <th>number of events observed</th>\n",
       "      <td>651</td>\n",
       "    </tr>\n",
       "    <tr>\n",
       "      <th>partial log-likelihood</th>\n",
       "      <td>-3781.48</td>\n",
       "    </tr>\n",
       "    <tr>\n",
       "      <th>time fit was run</th>\n",
       "      <td>2020-03-27 15:48:18 UTC</td>\n",
       "    </tr>\n",
       "  </tbody>\n",
       "</table>\n",
       "</div><table border=\"1\" class=\"dataframe\">\n",
       "  <thead>\n",
       "    <tr style=\"text-align: right;\">\n",
       "      <th></th>\n",
       "      <th>coef</th>\n",
       "      <th>exp(coef)</th>\n",
       "      <th>se(coef)</th>\n",
       "      <th>coef lower 95%</th>\n",
       "      <th>coef upper 95%</th>\n",
       "      <th>exp(coef) lower 95%</th>\n",
       "      <th>exp(coef) upper 95%</th>\n",
       "      <th>z</th>\n",
       "      <th>p</th>\n",
       "      <th>-log2(p)</th>\n",
       "    </tr>\n",
       "  </thead>\n",
       "  <tbody>\n",
       "    <tr>\n",
       "      <th>Zat_cnt</th>\n",
       "      <td>-0.10</td>\n",
       "      <td>0.91</td>\n",
       "      <td>0.05</td>\n",
       "      <td>-0.19</td>\n",
       "      <td>-0.01</td>\n",
       "      <td>0.83</td>\n",
       "      <td>0.99</td>\n",
       "      <td>-2.16</td>\n",
       "      <td>0.03</td>\n",
       "      <td>5.01</td>\n",
       "    </tr>\n",
       "    <tr>\n",
       "      <th>Zif_at</th>\n",
       "      <td>0.46</td>\n",
       "      <td>1.59</td>\n",
       "      <td>0.24</td>\n",
       "      <td>-0.01</td>\n",
       "      <td>0.94</td>\n",
       "      <td>0.99</td>\n",
       "      <td>2.56</td>\n",
       "      <td>1.92</td>\n",
       "      <td>0.06</td>\n",
       "      <td>4.18</td>\n",
       "    </tr>\n",
       "    <tr>\n",
       "      <th>talk_cnt</th>\n",
       "      <td>0.00</td>\n",
       "      <td>1.00</td>\n",
       "      <td>0.00</td>\n",
       "      <td>-0.00</td>\n",
       "      <td>0.00</td>\n",
       "      <td>1.00</td>\n",
       "      <td>1.00</td>\n",
       "      <td>1.66</td>\n",
       "      <td>0.10</td>\n",
       "      <td>3.37</td>\n",
       "    </tr>\n",
       "    <tr>\n",
       "      <th>act_days</th>\n",
       "      <td>-0.09</td>\n",
       "      <td>0.92</td>\n",
       "      <td>0.03</td>\n",
       "      <td>-0.14</td>\n",
       "      <td>-0.04</td>\n",
       "      <td>0.87</td>\n",
       "      <td>0.96</td>\n",
       "      <td>-3.40</td>\n",
       "      <td>&lt;0.005</td>\n",
       "      <td>10.54</td>\n",
       "    </tr>\n",
       "  </tbody>\n",
       "</table><div>\n",
       "<style scoped>\n",
       "    .dataframe tbody tr th:only-of-type {\n",
       "        vertical-align: middle;\n",
       "    }\n",
       "\n",
       "    .dataframe tbody tr th {\n",
       "        vertical-align: top;\n",
       "    }\n",
       "\n",
       "    .dataframe thead th {\n",
       "        text-align: right;\n",
       "    }\n",
       "</style>\n",
       "<table border=\"1\" class=\"dataframe\">\n",
       "  <tbody>\n",
       "    <tr>\n",
       "      <th>Concordance</th>\n",
       "      <td>0.84</td>\n",
       "    </tr>\n",
       "    <tr>\n",
       "      <th>Log-likelihood ratio test</th>\n",
       "      <td>389.77 on 4 df, -log2(p)=273.55</td>\n",
       "    </tr>\n",
       "  </tbody>\n",
       "</table>\n",
       "</div>"
      ],
      "text/plain": [
       "<IPython.core.display.HTML object>"
      ]
     },
     "metadata": {},
     "output_type": "display_data"
    }
   ],
   "source": [
    "#['mean_talk','max_min','observed','at_cnt','group','talk_cnt','act_days']\n",
    "# '0-1at_cnt','Zat_cnt','nor_at_cnt'\n",
    "# '0-1if_at','Zif_at','nor_if_at'\n",
    "df_ = df_sum[['max_min','observed','Zat_cnt','Zif_at','group','talk_cnt','act_days']]\n",
    "df_ = df_[df_.talk_cnt>1]\n",
    "cph = CoxPHFitter()\n",
    "cph.fit(df_, duration_col='max_min', event_col='observed',cluster_col='group') #strata=['mean_talk']\n",
    "cph.print_summary()  # access the results using cph.summary"
   ]
  },
  {
   "cell_type": "code",
   "execution_count": 340,
   "metadata": {},
   "outputs": [
    {
     "data": {
      "text/html": [
       "<div>\n",
       "<style scoped>\n",
       "    .dataframe tbody tr th:only-of-type {\n",
       "        vertical-align: middle;\n",
       "    }\n",
       "\n",
       "    .dataframe tbody tr th {\n",
       "        vertical-align: top;\n",
       "    }\n",
       "\n",
       "    .dataframe thead th {\n",
       "        text-align: right;\n",
       "    }\n",
       "</style>\n",
       "<table border=\"1\" class=\"dataframe\">\n",
       "  <tbody>\n",
       "    <tr>\n",
       "      <th>model</th>\n",
       "      <td>lifelines.CoxPHFitter</td>\n",
       "    </tr>\n",
       "    <tr>\n",
       "      <th>duration col</th>\n",
       "      <td>'max_min'</td>\n",
       "    </tr>\n",
       "    <tr>\n",
       "      <th>event col</th>\n",
       "      <td>'observed'</td>\n",
       "    </tr>\n",
       "    <tr>\n",
       "      <th>cluster col</th>\n",
       "      <td>'group'</td>\n",
       "    </tr>\n",
       "    <tr>\n",
       "      <th>robust variance</th>\n",
       "      <td>True</td>\n",
       "    </tr>\n",
       "    <tr>\n",
       "      <th>number of observations</th>\n",
       "      <td>917</td>\n",
       "    </tr>\n",
       "    <tr>\n",
       "      <th>number of events observed</th>\n",
       "      <td>546</td>\n",
       "    </tr>\n",
       "    <tr>\n",
       "      <th>partial log-likelihood</th>\n",
       "      <td>-3099.73</td>\n",
       "    </tr>\n",
       "    <tr>\n",
       "      <th>time fit was run</th>\n",
       "      <td>2020-03-27 15:57:04 UTC</td>\n",
       "    </tr>\n",
       "  </tbody>\n",
       "</table>\n",
       "</div><table border=\"1\" class=\"dataframe\">\n",
       "  <thead>\n",
       "    <tr style=\"text-align: right;\">\n",
       "      <th></th>\n",
       "      <th>coef</th>\n",
       "      <th>exp(coef)</th>\n",
       "      <th>se(coef)</th>\n",
       "      <th>coef lower 95%</th>\n",
       "      <th>coef upper 95%</th>\n",
       "      <th>exp(coef) lower 95%</th>\n",
       "      <th>exp(coef) upper 95%</th>\n",
       "      <th>z</th>\n",
       "      <th>p</th>\n",
       "      <th>-log2(p)</th>\n",
       "    </tr>\n",
       "  </thead>\n",
       "  <tbody>\n",
       "    <tr>\n",
       "      <th>Zat_cnt</th>\n",
       "      <td>-0.11</td>\n",
       "      <td>0.89</td>\n",
       "      <td>0.04</td>\n",
       "      <td>-0.19</td>\n",
       "      <td>-0.04</td>\n",
       "      <td>0.83</td>\n",
       "      <td>0.96</td>\n",
       "      <td>-2.90</td>\n",
       "      <td>&lt;0.005</td>\n",
       "      <td>8.08</td>\n",
       "    </tr>\n",
       "    <tr>\n",
       "      <th>Zif_at</th>\n",
       "      <td>0.05</td>\n",
       "      <td>1.05</td>\n",
       "      <td>0.02</td>\n",
       "      <td>0.00</td>\n",
       "      <td>0.09</td>\n",
       "      <td>1.00</td>\n",
       "      <td>1.10</td>\n",
       "      <td>2.03</td>\n",
       "      <td>0.04</td>\n",
       "      <td>4.56</td>\n",
       "    </tr>\n",
       "    <tr>\n",
       "      <th>mean_talk</th>\n",
       "      <td>0.06</td>\n",
       "      <td>1.06</td>\n",
       "      <td>0.00</td>\n",
       "      <td>0.06</td>\n",
       "      <td>0.07</td>\n",
       "      <td>1.06</td>\n",
       "      <td>1.07</td>\n",
       "      <td>26.61</td>\n",
       "      <td>&lt;0.005</td>\n",
       "      <td>515.70</td>\n",
       "    </tr>\n",
       "    <tr>\n",
       "      <th>act_days</th>\n",
       "      <td>-0.06</td>\n",
       "      <td>0.94</td>\n",
       "      <td>0.02</td>\n",
       "      <td>-0.09</td>\n",
       "      <td>-0.03</td>\n",
       "      <td>0.91</td>\n",
       "      <td>0.97</td>\n",
       "      <td>-4.09</td>\n",
       "      <td>&lt;0.005</td>\n",
       "      <td>14.49</td>\n",
       "    </tr>\n",
       "  </tbody>\n",
       "</table><div>\n",
       "<style scoped>\n",
       "    .dataframe tbody tr th:only-of-type {\n",
       "        vertical-align: middle;\n",
       "    }\n",
       "\n",
       "    .dataframe tbody tr th {\n",
       "        vertical-align: top;\n",
       "    }\n",
       "\n",
       "    .dataframe thead th {\n",
       "        text-align: right;\n",
       "    }\n",
       "</style>\n",
       "<table border=\"1\" class=\"dataframe\">\n",
       "  <tbody>\n",
       "    <tr>\n",
       "      <th>Concordance</th>\n",
       "      <td>0.78</td>\n",
       "    </tr>\n",
       "    <tr>\n",
       "      <th>Log-likelihood ratio test</th>\n",
       "      <td>305.29 on 4 df, -log2(p)=212.96</td>\n",
       "    </tr>\n",
       "  </tbody>\n",
       "</table>\n",
       "</div>"
      ],
      "text/plain": [
       "<IPython.core.display.HTML object>"
      ]
     },
     "metadata": {},
     "output_type": "display_data"
    }
   ],
   "source": [
    "#['mean_talk','max_min','observed','at_cnt','group','talk_cnt','act_days']\n",
    "# '0-1at_cnt','Zat_cnt','nor_at_cnt'\n",
    "# '0-1if_at','Zif_at','nor_if_at'\n",
    "df_ = df_sum[['max_min','observed','Zat_cnt','Zif_at','group','mean_talk','act_days']]\n",
    "df_ = df_[df_.max_min>1]\n",
    "cph = CoxPHFitter()\n",
    "cph.fit(df_, duration_col='max_min', event_col='observed',cluster_col='group') #strata=['mean_talk']\n",
    "cph.print_summary()  # access the results using cph.summary"
   ]
  },
  {
   "cell_type": "code",
   "execution_count": 165,
   "metadata": {},
   "outputs": [
    {
     "data": {
      "text/plain": [
       "<matplotlib.axes._subplots.AxesSubplot at 0x1a1d76ff60>"
      ]
     },
     "execution_count": 165,
     "metadata": {},
     "output_type": "execute_result"
    },
    {
     "data": {
      "image/png": "[encoded data removed]",
      "text/plain": [
       "<Figure size 432x288 with 1 Axes>"
      ]
     },
     "metadata": {
      "needs_background": "light"
     },
     "output_type": "display_data"
    }
   ],
   "source": [
    "cph.plot()"
   ]
  },
  {
   "cell_type": "code",
   "execution_count": 166,
   "metadata": {},
   "outputs": [
    {
     "name": "stdout",
     "output_type": "stream",
     "text": [
      "The ``p_value_threshold`` is set at 0.05. Even under the null hypothesis of no violations, some\n",
      "covariates will be below the threshold by chance. This is compounded when there are many covariates.\n",
      "Similarly, when there are lots of observations, even minor deviances from the proportional hazard\n",
      "assumption will be flagged.\n",
      "\n",
      "With that in mind, it's best to use a combination of statistical tests and visual tests to determine\n",
      "the most serious violations. Produce visual plots using ``check_assumptions(..., show_plots=True)``\n",
      "and looking for non-constant lines. See link [A] below for a full example.\n",
      "\n"
     ]
    },
    {
     "data": {
      "text/html": [
       "<div>\n",
       "<style scoped>\n",
       "    .dataframe tbody tr th:only-of-type {\n",
       "        vertical-align: middle;\n",
       "    }\n",
       "\n",
       "    .dataframe tbody tr th {\n",
       "        vertical-align: top;\n",
       "    }\n",
       "\n",
       "    .dataframe thead th {\n",
       "        text-align: right;\n",
       "    }\n",
       "</style>\n",
       "<table border=\"1\" class=\"dataframe\">\n",
       "  <tbody>\n",
       "    <tr>\n",
       "      <th>null_distribution</th>\n",
       "      <td>chi squared</td>\n",
       "    </tr>\n",
       "    <tr>\n",
       "      <th>degrees_of_freedom</th>\n",
       "      <td>1</td>\n",
       "    </tr>\n",
       "    <tr>\n",
       "      <th>test_name</th>\n",
       "      <td>proportional_hazard_test</td>\n",
       "    </tr>\n",
       "  </tbody>\n",
       "</table>\n",
       "</div><table border=\"1\" class=\"dataframe\">\n",
       "  <thead>\n",
       "    <tr style=\"text-align: right;\">\n",
       "      <th></th>\n",
       "      <th></th>\n",
       "      <th>test_statistic</th>\n",
       "      <th>p</th>\n",
       "    </tr>\n",
       "  </thead>\n",
       "  <tbody>\n",
       "    <tr>\n",
       "      <th rowspan=\"2\" valign=\"top\">act_days</th>\n",
       "      <th>km</th>\n",
       "      <td>307.76</td>\n",
       "      <td>&lt;0.005</td>\n",
       "    </tr>\n",
       "    <tr>\n",
       "      <th>rank</th>\n",
       "      <td>261.40</td>\n",
       "      <td>&lt;0.005</td>\n",
       "    </tr>\n",
       "    <tr>\n",
       "      <th rowspan=\"2\" valign=\"top\">at_cnt</th>\n",
       "      <th>km</th>\n",
       "      <td>5.90</td>\n",
       "      <td>0.02</td>\n",
       "    </tr>\n",
       "    <tr>\n",
       "      <th>rank</th>\n",
       "      <td>3.98</td>\n",
       "      <td>0.05</td>\n",
       "    </tr>\n",
       "    <tr>\n",
       "      <th rowspan=\"2\" valign=\"top\">mean_talk</th>\n",
       "      <th>km</th>\n",
       "      <td>1.34</td>\n",
       "      <td>0.25</td>\n",
       "    </tr>\n",
       "    <tr>\n",
       "      <th>rank</th>\n",
       "      <td>4.50</td>\n",
       "      <td>0.03</td>\n",
       "    </tr>\n",
       "    <tr>\n",
       "      <th rowspan=\"2\" valign=\"top\">talk_cnt</th>\n",
       "      <th>km</th>\n",
       "      <td>21.68</td>\n",
       "      <td>&lt;0.005</td>\n",
       "    </tr>\n",
       "    <tr>\n",
       "      <th>rank</th>\n",
       "      <td>23.26</td>\n",
       "      <td>&lt;0.005</td>\n",
       "    </tr>\n",
       "  </tbody>\n",
       "</table>"
      ],
      "text/plain": [
       "<IPython.core.display.HTML object>"
      ]
     },
     "metadata": {},
     "output_type": "display_data"
    },
    {
     "name": "stdout",
     "output_type": "stream",
     "text": [
      "\n",
      "\n",
      "1. Variable 'mean_talk' failed the non-proportional test: p-value is 0.0338.\n",
      "\n",
      "   Advice 1: the functional form of the variable 'mean_talk' might be incorrect. That is, there may\n",
      "be non-linear terms missing. The proportional hazard test used is very sensitive to incorrect\n",
      "functional forms. See documentation in link [D] below on how to specify a functional form.\n",
      "\n",
      "   Advice 2: try binning the variable 'mean_talk' using pd.cut, and then specify it in\n",
      "`strata=['mean_talk', ...]` in the call in `.fit`. See documentation in link [B] below.\n",
      "\n",
      "   Advice 3: try adding an interaction term with your time variable. See documentation in link [C]\n",
      "below.\n",
      "\n",
      "\n",
      "2. Variable 'at_cnt' failed the non-proportional test: p-value is 0.0152.\n",
      "\n",
      "   Advice 1: the functional form of the variable 'at_cnt' might be incorrect. That is, there may be\n",
      "non-linear terms missing. The proportional hazard test used is very sensitive to incorrect\n",
      "functional forms. See documentation in link [D] below on how to specify a functional form.\n",
      "\n",
      "   Advice 2: try binning the variable 'at_cnt' using pd.cut, and then specify it in\n",
      "`strata=['at_cnt', ...]` in the call in `.fit`. See documentation in link [B] below.\n",
      "\n",
      "   Advice 3: try adding an interaction term with your time variable. See documentation in link [C]\n",
      "below.\n",
      "\n",
      "\n",
      "3. Variable 'talk_cnt' failed the non-proportional test: p-value is <5e-05.\n",
      "\n",
      "   Advice 1: the functional form of the variable 'talk_cnt' might be incorrect. That is, there may\n",
      "be non-linear terms missing. The proportional hazard test used is very sensitive to incorrect\n",
      "functional forms. See documentation in link [D] below on how to specify a functional form.\n",
      "\n",
      "   Advice 2: try binning the variable 'talk_cnt' using pd.cut, and then specify it in\n",
      "`strata=['talk_cnt', ...]` in the call in `.fit`. See documentation in link [B] below.\n",
      "\n",
      "   Advice 3: try adding an interaction term with your time variable. See documentation in link [C]\n",
      "below.\n",
      "\n",
      "\n",
      "4. Variable 'act_days' failed the non-proportional test: p-value is <5e-05.\n",
      "\n",
      "   Advice 1: the functional form of the variable 'act_days' might be incorrect. That is, there may\n",
      "be non-linear terms missing. The proportional hazard test used is very sensitive to incorrect\n",
      "functional forms. See documentation in link [D] below on how to specify a functional form.\n",
      "\n",
      "   Advice 2: try binning the variable 'act_days' using pd.cut, and then specify it in\n",
      "`strata=['act_days', ...]` in the call in `.fit`. See documentation in link [B] below.\n",
      "\n",
      "   Advice 3: try adding an interaction term with your time variable. See documentation in link [C]\n",
      "below.\n",
      "\n",
      "\n",
      "---\n",
      "[A]  https://lifelines.readthedocs.io/en/latest/jupyter_notebooks/Proportional%20hazard%20assumption.html\n",
      "[B]  https://lifelines.readthedocs.io/en/latest/jupyter_notebooks/Proportional%20hazard%20assumption.html#Bin-variable-and-stratify-on-it\n",
      "[C]  https://lifelines.readthedocs.io/en/latest/jupyter_notebooks/Proportional%20hazard%20assumption.html#Introduce-time-varying-covariates\n",
      "[D]  https://lifelines.readthedocs.io/en/latest/jupyter_notebooks/Proportional%20hazard%20assumption.html#Modify-the-functional-form\n",
      "[E]  https://lifelines.readthedocs.io/en/latest/jupyter_notebooks/Proportional%20hazard%20assumption.html#Stratification\n",
      "\n"
     ]
    },
    {
     "data": {
      "image/png": "[encoded data removed]",
      "text/plain": [
       "<Figure size 432x288 with 2 Axes>"
      ]
     },
     "metadata": {
      "needs_background": "light"
     },
     "output_type": "display_data"
    },
    {
     "data": {
      "image/png": "[encoded data removed]",
      "text/plain": [
       "<Figure size 432x288 with 2 Axes>"
      ]
     },
     "metadata": {
      "needs_background": "light"
     },
     "output_type": "display_data"
    },
    {
     "data": {
      "image/png": "[encoded data removed]",
      "text/plain": [
       "<Figure size 432x288 with 2 Axes>"
      ]
     },
     "metadata": {
      "needs_background": "light"
     },
     "output_type": "display_data"
    },
    {
     "data": {
      "image/png": "[encoded data removed]",
      "text/plain": [
       "<Figure size 432x288 with 2 Axes>"
      ]
     },
     "metadata": {
      "needs_background": "light"
     },
     "output_type": "display_data"
    }
   ],
   "source": [
    "cph.check_assumptions(df_, p_value_threshold=0.05, show_plots=True)"
   ]
  },
  {
   "cell_type": "code",
   "execution_count": 175,
   "metadata": {},
   "outputs": [
    {
     "data": {
      "text/plain": [
       "mean_talk    32\n",
       "max_min      32\n",
       "observed     32\n",
       "at_cnt       32\n",
       "group        32\n",
       "talk_cnt     32\n",
       "act_days     32\n",
       "dtype: int64"
      ]
     },
     "execution_count": 175,
     "metadata": {},
     "output_type": "execute_result"
    }
   ],
   "source": [
    "df_[df_.talk_cnt ==5].count()"
   ]
  },
  {
   "cell_type": "code",
   "execution_count": 214,
   "metadata": {},
   "outputs": [
    {
     "data": {
      "text/plain": [
       "<matplotlib.axes._subplots.AxesSubplot at 0x1a1d69f3c8>"
      ]
     },
     "execution_count": 214,
     "metadata": {},
     "output_type": "execute_result"
    },
    {
     "data": {
      "image/png": "[encoded data removed]",
      "text/plain": [
       "<Figure size 432x288 with 1 Axes>"
      ]
     },
     "metadata": {
      "needs_background": "light"
     },
     "output_type": "display_data"
    }
   ],
   "source": [
    "df_sum.if_at.plot()"
   ]
  },
  {
   "cell_type": "markdown",
   "metadata": {},
   "source": [
    "### 文本抽样"
   ]
  },
  {
   "cell_type": "code",
   "execution_count": 683,
   "metadata": {},
   "outputs": [],
   "source": [
    "import pandas as pd\n",
    "#df = pd.read_csv('data//child2&3.csv',encoding = 'utf-8')\n",
    "df_sample = pd.read_csv('data//wechat_sample_0325.csv',encoding = 'utf-8')"
   ]
  },
  {
   "cell_type": "code",
   "execution_count": 396,
   "metadata": {},
   "outputs": [],
   "source": [
    "df=df[df.mType==1]\n",
    "df= df.reset_index(drop=True)"
   ]
  },
  {
   "cell_type": "code",
   "execution_count": 399,
   "metadata": {},
   "outputs": [],
   "source": [
    "df_msgId = pd.DataFrame()\n",
    "df_msgId['msgId'] = df_sample['msgId']\n",
    "df_msgId['sa'] = 1"
   ]
  },
  {
   "cell_type": "code",
   "execution_count": 405,
   "metadata": {},
   "outputs": [],
   "source": [
    "dff = pd.merge(df,df_msgId,on = 'msgId',how='left')"
   ]
  },
  {
   "cell_type": "code",
   "execution_count": 406,
   "metadata": {},
   "outputs": [],
   "source": [
    "dff['sa'] = dff['sa'].fillna(0)"
   ]
  },
  {
   "cell_type": "code",
   "execution_count": 408,
   "metadata": {},
   "outputs": [
    {
     "data": {
      "text/plain": [
       "msgId         5799\n",
       "chatroom      5799\n",
       "mType         5799\n",
       "createTime    5799\n",
       "content       5799\n",
       "flow_tag      5799\n",
       "talker_id     5799\n",
       "if_sample     5799\n",
       "sa            5799\n",
       "dtype: int64"
      ]
     },
     "execution_count": 408,
     "metadata": {},
     "output_type": "execute_result"
    }
   ],
   "source": [
    "dff[dff.sa==1].count()"
   ]
  },
  {
   "cell_type": "code",
   "execution_count": 410,
   "metadata": {},
   "outputs": [
    {
     "name": "stderr",
     "output_type": "stream",
     "text": [
      "//anaconda3/lib/python3.7/site-packages/ipykernel_launcher.py:1: UserWarning: Boolean Series key will be reindexed to match DataFrame index.\n",
      "  \"\"\"Entry point for launching an IPython kernel.\n"
     ]
    }
   ],
   "source": [
    "df1 = dff[dff.chatroom=='5007452012@chatroom'][dff.sa==0]"
   ]
  },
  {
   "cell_type": "code",
   "execution_count": 411,
   "metadata": {},
   "outputs": [
    {
     "name": "stderr",
     "output_type": "stream",
     "text": [
      "//anaconda3/lib/python3.7/site-packages/ipykernel_launcher.py:1: UserWarning: Boolean Series key will be reindexed to match DataFrame index.\n",
      "  \"\"\"Entry point for launching an IPython kernel.\n"
     ]
    }
   ],
   "source": [
    "df2 = dff[dff.chatroom=='5556417190@chatroom'][dff.sa==0]"
   ]
  },
  {
   "cell_type": "code",
   "execution_count": 412,
   "metadata": {},
   "outputs": [],
   "source": [
    "import numpy as np\n",
    "np.random.seed(seed=2)"
   ]
  },
  {
   "cell_type": "code",
   "execution_count": 413,
   "metadata": {},
   "outputs": [],
   "source": [
    "df11 = df1.sample(frac=0.05)"
   ]
  },
  {
   "cell_type": "code",
   "execution_count": 427,
   "metadata": {},
   "outputs": [
    {
     "data": {
      "text/plain": [
       "2944"
      ]
     },
     "execution_count": 427,
     "metadata": {},
     "output_type": "execute_result"
    }
   ],
   "source": [
    "df11.msgId.count()"
   ]
  },
  {
   "cell_type": "code",
   "execution_count": 415,
   "metadata": {},
   "outputs": [],
   "source": [
    "df12 = df2.sample(frac=0.05)"
   ]
  },
  {
   "cell_type": "code",
   "execution_count": 428,
   "metadata": {},
   "outputs": [
    {
     "data": {
      "text/plain": [
       "2565"
      ]
     },
     "execution_count": 428,
     "metadata": {},
     "output_type": "execute_result"
    }
   ],
   "source": [
    "df12.msgId.count()"
   ]
  },
  {
   "cell_type": "code",
   "execution_count": 417,
   "metadata": {},
   "outputs": [
    {
     "data": {
      "text/plain": [
       "('2018-07-17 16:21:22', '2019-03-14 09:00:39')"
      ]
     },
     "execution_count": 417,
     "metadata": {},
     "output_type": "execute_result"
    }
   ],
   "source": [
    "df11.createTime.min(),df11.createTime.max()"
   ]
  },
  {
   "cell_type": "code",
   "execution_count": 418,
   "metadata": {},
   "outputs": [
    {
     "data": {
      "text/plain": [
       "('2018-01-31 15:00:20', '2019-03-13 21:32:13')"
      ]
     },
     "execution_count": 418,
     "metadata": {},
     "output_type": "execute_result"
    }
   ],
   "source": [
    "df12.createTime.min(),df12.createTime.max()"
   ]
  },
  {
   "cell_type": "code",
   "execution_count": 419,
   "metadata": {},
   "outputs": [],
   "source": [
    "df_test = pd.concat([df11,df12])"
   ]
  },
  {
   "cell_type": "code",
   "execution_count": 429,
   "metadata": {},
   "outputs": [
    {
     "data": {
      "text/plain": [
       "5509"
      ]
     },
     "execution_count": 429,
     "metadata": {},
     "output_type": "execute_result"
    }
   ],
   "source": [
    "df_test.msgId.count()"
   ]
  },
  {
   "cell_type": "code",
   "execution_count": 424,
   "metadata": {},
   "outputs": [],
   "source": [
    "df_test.drop(['if_sample','sa'],axis = 1,inplace=True)"
   ]
  },
  {
   "cell_type": "code",
   "execution_count": 425,
   "metadata": {},
   "outputs": [
    {
     "data": {
      "text/html": [
       "<div>\n",
       "<style scoped>\n",
       "    .dataframe tbody tr th:only-of-type {\n",
       "        vertical-align: middle;\n",
       "    }\n",
       "\n",
       "    .dataframe tbody tr th {\n",
       "        vertical-align: top;\n",
       "    }\n",
       "\n",
       "    .dataframe thead th {\n",
       "        text-align: right;\n",
       "    }\n",
       "</style>\n",
       "<table border=\"1\" class=\"dataframe\">\n",
       "  <thead>\n",
       "    <tr style=\"text-align: right;\">\n",
       "      <th></th>\n",
       "      <th>msgId</th>\n",
       "      <th>chatroom</th>\n",
       "      <th>mType</th>\n",
       "      <th>createTime</th>\n",
       "      <th>content</th>\n",
       "      <th>flow_tag</th>\n",
       "      <th>talker_id</th>\n",
       "    </tr>\n",
       "  </thead>\n",
       "  <tbody>\n",
       "    <tr>\n",
       "      <th>22230</th>\n",
       "      <td>144026</td>\n",
       "      <td>5007452012@chatroom</td>\n",
       "      <td>1</td>\n",
       "      <td>2019-02-20 10:21:08</td>\n",
       "      <td>良性的化疗不敏感</td>\n",
       "      <td>0</td>\n",
       "      <td>wxid_0evappusl0622</td>\n",
       "    </tr>\n",
       "    <tr>\n",
       "      <th>12661</th>\n",
       "      <td>100493</td>\n",
       "      <td>5007452012@chatroom</td>\n",
       "      <td>1</td>\n",
       "      <td>2018-11-30 10:59:21</td>\n",
       "      <td>@喜来?批发价多少钱</td>\n",
       "      <td>2</td>\n",
       "      <td>wxid_psmmfcuyrvie21</td>\n",
       "    </tr>\n",
       "    <tr>\n",
       "      <th>31678</th>\n",
       "      <td>177438</td>\n",
       "      <td>5007452012@chatroom</td>\n",
       "      <td>1</td>\n",
       "      <td>2018-11-17 23:18:30</td>\n",
       "      <td>@知足常乐?大脑左右，右为主弥散型胶质瘤</td>\n",
       "      <td>0</td>\n",
       "      <td>wxid_tyeiucvzb46322</td>\n",
       "    </tr>\n",
       "    <tr>\n",
       "      <th>86613</th>\n",
       "      <td>393731</td>\n",
       "      <td>5007452012@chatroom</td>\n",
       "      <td>1</td>\n",
       "      <td>2019-01-05 16:23:27</td>\n",
       "      <td>我当时挺坚强的，爱人吓得在手术室外面做了七个小时不敢站起来</td>\n",
       "      <td>0</td>\n",
       "      <td>wxid_g31fxtu30e7z21</td>\n",
       "    </tr>\n",
       "    <tr>\n",
       "      <th>49877</th>\n",
       "      <td>246996</td>\n",
       "      <td>5007452012@chatroom</td>\n",
       "      <td>1</td>\n",
       "      <td>2019-02-19 17:31:04</td>\n",
       "      <td>感觉没那么高，说很累，让先试两天，害怕受不了[捂脸][捂脸][捂脸]</td>\n",
       "      <td>0</td>\n",
       "      <td>wxid_44prp7uixrse12</td>\n",
       "    </tr>\n",
       "  </tbody>\n",
       "</table>\n",
       "</div>"
      ],
      "text/plain": [
       "        msgId             chatroom  mType           createTime  \\\n",
       "22230  144026  5007452012@chatroom      1  2019-02-20 10:21:08   \n",
       "12661  100493  5007452012@chatroom      1  2018-11-30 10:59:21   \n",
       "31678  177438  5007452012@chatroom      1  2018-11-17 23:18:30   \n",
       "86613  393731  5007452012@chatroom      1  2019-01-05 16:23:27   \n",
       "49877  246996  5007452012@chatroom      1  2019-02-19 17:31:04   \n",
       "\n",
       "                                  content  flow_tag            talker_id  \n",
       "22230                            良性的化疗不敏感         0   wxid_0evappusl0622  \n",
       "12661                          @喜来?批发价多少钱         2  wxid_psmmfcuyrvie21  \n",
       "31678                @知足常乐?大脑左右，右为主弥散型胶质瘤         0  wxid_tyeiucvzb46322  \n",
       "86613       我当时挺坚强的，爱人吓得在手术室外面做了七个小时不敢站起来         0  wxid_g31fxtu30e7z21  \n",
       "49877  感觉没那么高，说很累，让先试两天，害怕受不了[捂脸][捂脸][捂脸]         0  wxid_44prp7uixrse12  "
      ]
     },
     "execution_count": 425,
     "metadata": {},
     "output_type": "execute_result"
    }
   ],
   "source": [
    "df_test.head()"
   ]
  },
  {
   "cell_type": "code",
   "execution_count": 426,
   "metadata": {},
   "outputs": [],
   "source": [
    "df_test.to_csv('data//wechat_sample_2.csv',encoding = 'utf-8-sig',index = None)"
   ]
  },
  {
   "cell_type": "markdown",
   "metadata": {},
   "source": [
    "### 文本处理"
   ]
  },
  {
   "cell_type": "code",
   "execution_count": 545,
   "metadata": {},
   "outputs": [],
   "source": [
    "info = pd.read_csv('data//info.csv',encoding = 'utf-8')"
   ]
  },
  {
   "cell_type": "code",
   "execution_count": 546,
   "metadata": {},
   "outputs": [
    {
     "data": {
      "text/html": [
       "<div>\n",
       "<style scoped>\n",
       "    .dataframe tbody tr th:only-of-type {\n",
       "        vertical-align: middle;\n",
       "    }\n",
       "\n",
       "    .dataframe tbody tr th {\n",
       "        vertical-align: top;\n",
       "    }\n",
       "\n",
       "    .dataframe thead th {\n",
       "        text-align: right;\n",
       "    }\n",
       "</style>\n",
       "<table border=\"1\" class=\"dataframe\">\n",
       "  <thead>\n",
       "    <tr style=\"text-align: right;\">\n",
       "      <th></th>\n",
       "      <th>id</th>\n",
       "      <th>name</th>\n",
       "      <th>null</th>\n",
       "    </tr>\n",
       "  </thead>\n",
       "  <tbody>\n",
       "    <tr>\n",
       "      <th>0</th>\n",
       "      <td>aiqike</td>\n",
       "      <td>NaN</td>\n",
       "      <td>NaN</td>\n",
       "    </tr>\n",
       "    <tr>\n",
       "      <th>1</th>\n",
       "      <td>wxid_5hdftmx7hdyn12</td>\n",
       "      <td>NaN</td>\n",
       "      <td>NaN</td>\n",
       "    </tr>\n",
       "    <tr>\n",
       "      <th>2</th>\n",
       "      <td>10690173821@chatroom</td>\n",
       "      <td>递爱之家颅内卵黄囊瘤胚胎癌绒癌群</td>\n",
       "      <td>NaN</td>\n",
       "    </tr>\n",
       "    <tr>\n",
       "      <th>3</th>\n",
       "      <td>11038223914@chatroom</td>\n",
       "      <td>电场optune群</td>\n",
       "      <td>NaN</td>\n",
       "    </tr>\n",
       "    <tr>\n",
       "      <th>4</th>\n",
       "      <td>12061178839@chatroom</td>\n",
       "      <td>递爱之家髓母1群</td>\n",
       "      <td>NaN</td>\n",
       "    </tr>\n",
       "  </tbody>\n",
       "</table>\n",
       "</div>"
      ],
      "text/plain": [
       "                     id              name null\n",
       "0                aiqike               NaN  NaN\n",
       "1   wxid_5hdftmx7hdyn12               NaN  NaN\n",
       "2  10690173821@chatroom  递爱之家颅内卵黄囊瘤胚胎癌绒癌群  NaN\n",
       "3  11038223914@chatroom         电场optune群  NaN\n",
       "4  12061178839@chatroom          递爱之家髓母1群  NaN"
      ]
     },
     "execution_count": 546,
     "metadata": {},
     "output_type": "execute_result"
    }
   ],
   "source": [
    "info.head()"
   ]
  },
  {
   "cell_type": "code",
   "execution_count": 555,
   "metadata": {},
   "outputs": [
    {
     "data": {
      "text/plain": [
       "[0, 0, 0, 0, 0, 0, 1, 0, 0, 0]"
      ]
     },
     "execution_count": 555,
     "metadata": {},
     "output_type": "execute_result"
    }
   ],
   "source": [
    "l1 = list()\n",
    "l2 = list()\n",
    "for i in range(0,len(df)):\n",
    "    if \"@\" in df['content'][i]:\n",
    "        l1.append(1)\n",
    "        #l2.append(df['content'][i])\n",
    "    else:\n",
    "        l1.append(0)\n",
    "l1[:10]"
   ]
  },
  {
   "cell_type": "code",
   "execution_count": 557,
   "metadata": {},
   "outputs": [],
   "source": [
    "df['if_at']= pd.DataFrame(l1)"
   ]
  },
  {
   "cell_type": "code",
   "execution_count": 571,
   "metadata": {},
   "outputs": [],
   "source": [
    "df_C = pd.DataFrame()\n",
    "df_C = df[df.if_at == 1][['msgId','chatroom','talker_id','content']]"
   ]
  },
  {
   "cell_type": "code",
   "execution_count": 572,
   "metadata": {},
   "outputs": [
    {
     "data": {
      "text/html": [
       "<div>\n",
       "<style scoped>\n",
       "    .dataframe tbody tr th:only-of-type {\n",
       "        vertical-align: middle;\n",
       "    }\n",
       "\n",
       "    .dataframe tbody tr th {\n",
       "        vertical-align: top;\n",
       "    }\n",
       "\n",
       "    .dataframe thead th {\n",
       "        text-align: right;\n",
       "    }\n",
       "</style>\n",
       "<table border=\"1\" class=\"dataframe\">\n",
       "  <thead>\n",
       "    <tr style=\"text-align: right;\">\n",
       "      <th></th>\n",
       "      <th>msgId</th>\n",
       "      <th>chatroom</th>\n",
       "      <th>talker_id</th>\n",
       "      <th>content</th>\n",
       "    </tr>\n",
       "  </thead>\n",
       "  <tbody>\n",
       "    <tr>\n",
       "      <th>6</th>\n",
       "      <td>49770</td>\n",
       "      <td>5007452012@chatroom</td>\n",
       "      <td>sujie9988</td>\n",
       "      <td>@病友之家大白?这么说来日本髓母下来也差不多了</td>\n",
       "    </tr>\n",
       "    <tr>\n",
       "      <th>13</th>\n",
       "      <td>49788</td>\n",
       "      <td>5007452012@chatroom</td>\n",
       "      <td>sujie9988</td>\n",
       "      <td>@糖果?孩子还好吧</td>\n",
       "    </tr>\n",
       "    <tr>\n",
       "      <th>16</th>\n",
       "      <td>49791</td>\n",
       "      <td>5007452012@chatroom</td>\n",
       "      <td>sujie9988</td>\n",
       "      <td>@糖果?没意识？</td>\n",
       "    </tr>\n",
       "    <tr>\n",
       "      <th>18</th>\n",
       "      <td>49793</td>\n",
       "      <td>5007452012@chatroom</td>\n",
       "      <td>limuhao001</td>\n",
       "      <td>@豫 髓母4岁术后 待放化?我们做父母的只能竭尽所能给孩子医治，尽人事听天命</td>\n",
       "    </tr>\n",
       "    <tr>\n",
       "      <th>19</th>\n",
       "      <td>49794</td>\n",
       "      <td>5007452012@chatroom</td>\n",
       "      <td>sujie9988</td>\n",
       "      <td>@济南10岁髓母?只能这样了，再难过再害怕也只有面对，有时候结果也许不是最坏的</td>\n",
       "    </tr>\n",
       "  </tbody>\n",
       "</table>\n",
       "</div>"
      ],
      "text/plain": [
       "    msgId             chatroom   talker_id  \\\n",
       "6   49770  5007452012@chatroom   sujie9988   \n",
       "13  49788  5007452012@chatroom   sujie9988   \n",
       "16  49791  5007452012@chatroom   sujie9988   \n",
       "18  49793  5007452012@chatroom  limuhao001   \n",
       "19  49794  5007452012@chatroom   sujie9988   \n",
       "\n",
       "                                    content  \n",
       "6                   @病友之家大白?这么说来日本髓母下来也差不多了  \n",
       "13                                @糖果?孩子还好吧  \n",
       "16                                 @糖果?没意识？  \n",
       "18  @豫 髓母4岁术后 待放化?我们做父母的只能竭尽所能给孩子医治，尽人事听天命  \n",
       "19  @济南10岁髓母?只能这样了，再难过再害怕也只有面对，有时候结果也许不是最坏的  "
      ]
     },
     "execution_count": 572,
     "metadata": {},
     "output_type": "execute_result"
    }
   ],
   "source": [
    "df_C.head()"
   ]
  },
  {
   "cell_type": "code",
   "execution_count": 562,
   "metadata": {},
   "outputs": [
    {
     "data": {
      "text/plain": [
       "'@病友之家大白?'"
      ]
     },
     "execution_count": 562,
     "metadata": {},
     "output_type": "execute_result"
    }
   ],
   "source": [
    "import re\n",
    "pat = re.compile(\"(\\@).*(\\?)\")"
   ]
  },
  {
   "cell_type": "code",
   "execution_count": 573,
   "metadata": {},
   "outputs": [],
   "source": [
    "df_C = df_C.reset_index(drop=True)"
   ]
  },
  {
   "cell_type": "code",
   "execution_count": 577,
   "metadata": {},
   "outputs": [
    {
     "data": {
      "text/plain": [
       "['这么说来日本髓母下来也差不多了',\n",
       " '孩子还好吧',\n",
       " '没意识？',\n",
       " '我们做父母的只能竭尽所能给孩子医治，尽人事听天命\\ue41d',\n",
       " '只能这样了，再难过再害怕也只有面对，有时候结果也许不是最坏的',\n",
       " '怎么会这样呢？孩子几岁了，手术前怎么样？',\n",
       " '还没手术呢？',\n",
       " '既然在这里做了，这时候就相信医生吧。',\n",
       " '哎！真是选错医院误了孩子！',\n",
       " '  是不是术后有脑积水，压的']"
      ]
     },
     "execution_count": 577,
     "metadata": {},
     "output_type": "execute_result"
    }
   ],
   "source": [
    "quote_list=list()\n",
    "new_content_list=list()\n",
    "for current_content in df_C.content:\n",
    "    ans = pat.search(current_content)\n",
    "    new_content = current_content\n",
    "    if ans:\n",
    "        quote = ans.group()\n",
    "        quote_list.append(quote)\n",
    "        new_content = current_content.replace(quote, \"\")\n",
    "        \n",
    "    else:\n",
    "        quote_list.append(0)\n",
    "    new_content_list.append(new_content)\n",
    "# quote_list[:10]\n",
    "new_content_list[:10]"
   ]
  },
  {
   "cell_type": "code",
   "execution_count": 578,
   "metadata": {},
   "outputs": [
    {
     "data": {
      "text/html": [
       "<div>\n",
       "<style scoped>\n",
       "    .dataframe tbody tr th:only-of-type {\n",
       "        vertical-align: middle;\n",
       "    }\n",
       "\n",
       "    .dataframe tbody tr th {\n",
       "        vertical-align: top;\n",
       "    }\n",
       "\n",
       "    .dataframe thead th {\n",
       "        text-align: right;\n",
       "    }\n",
       "</style>\n",
       "<table border=\"1\" class=\"dataframe\">\n",
       "  <thead>\n",
       "    <tr style=\"text-align: right;\">\n",
       "      <th></th>\n",
       "      <th>msgId</th>\n",
       "      <th>chatroom</th>\n",
       "      <th>talker_id</th>\n",
       "      <th>content</th>\n",
       "      <th>at_c</th>\n",
       "      <th>content_without_quote</th>\n",
       "    </tr>\n",
       "  </thead>\n",
       "  <tbody>\n",
       "    <tr>\n",
       "      <th>0</th>\n",
       "      <td>49770</td>\n",
       "      <td>5007452012@chatroom</td>\n",
       "      <td>sujie9988</td>\n",
       "      <td>@病友之家大白?这么说来日本髓母下来也差不多了</td>\n",
       "      <td>@病友之家大白?</td>\n",
       "      <td>这么说来日本髓母下来也差不多了</td>\n",
       "    </tr>\n",
       "    <tr>\n",
       "      <th>1</th>\n",
       "      <td>49788</td>\n",
       "      <td>5007452012@chatroom</td>\n",
       "      <td>sujie9988</td>\n",
       "      <td>@糖果?孩子还好吧</td>\n",
       "      <td>@糖果?</td>\n",
       "      <td>孩子还好吧</td>\n",
       "    </tr>\n",
       "    <tr>\n",
       "      <th>2</th>\n",
       "      <td>49791</td>\n",
       "      <td>5007452012@chatroom</td>\n",
       "      <td>sujie9988</td>\n",
       "      <td>@糖果?没意识？</td>\n",
       "      <td>@糖果?</td>\n",
       "      <td>没意识？</td>\n",
       "    </tr>\n",
       "    <tr>\n",
       "      <th>3</th>\n",
       "      <td>49793</td>\n",
       "      <td>5007452012@chatroom</td>\n",
       "      <td>limuhao001</td>\n",
       "      <td>@豫 髓母4岁术后 待放化?我们做父母的只能竭尽所能给孩子医治，尽人事听天命</td>\n",
       "      <td>@豫 髓母4岁术后 待放化?</td>\n",
       "      <td>我们做父母的只能竭尽所能给孩子医治，尽人事听天命</td>\n",
       "    </tr>\n",
       "    <tr>\n",
       "      <th>4</th>\n",
       "      <td>49794</td>\n",
       "      <td>5007452012@chatroom</td>\n",
       "      <td>sujie9988</td>\n",
       "      <td>@济南10岁髓母?只能这样了，再难过再害怕也只有面对，有时候结果也许不是最坏的</td>\n",
       "      <td>@济南10岁髓母?</td>\n",
       "      <td>只能这样了，再难过再害怕也只有面对，有时候结果也许不是最坏的</td>\n",
       "    </tr>\n",
       "  </tbody>\n",
       "</table>\n",
       "</div>"
      ],
      "text/plain": [
       "   msgId             chatroom   talker_id  \\\n",
       "0  49770  5007452012@chatroom   sujie9988   \n",
       "1  49788  5007452012@chatroom   sujie9988   \n",
       "2  49791  5007452012@chatroom   sujie9988   \n",
       "3  49793  5007452012@chatroom  limuhao001   \n",
       "4  49794  5007452012@chatroom   sujie9988   \n",
       "\n",
       "                                   content            at_c  \\\n",
       "0                  @病友之家大白?这么说来日本髓母下来也差不多了        @病友之家大白?   \n",
       "1                                @糖果?孩子还好吧            @糖果?   \n",
       "2                                 @糖果?没意识？            @糖果?   \n",
       "3  @豫 髓母4岁术后 待放化?我们做父母的只能竭尽所能给孩子医治，尽人事听天命  @豫 髓母4岁术后 待放化?   \n",
       "4  @济南10岁髓母?只能这样了，再难过再害怕也只有面对，有时候结果也许不是最坏的       @济南10岁髓母?   \n",
       "\n",
       "            content_without_quote  \n",
       "0                 这么说来日本髓母下来也差不多了  \n",
       "1                           孩子还好吧  \n",
       "2                            没意识？  \n",
       "3       我们做父母的只能竭尽所能给孩子医治，尽人事听天命  \n",
       "4  只能这样了，再难过再害怕也只有面对，有时候结果也许不是最坏的  "
      ]
     },
     "execution_count": 578,
     "metadata": {},
     "output_type": "execute_result"
    }
   ],
   "source": [
    "df_C['at_c'] = pd.DataFrame(quote_list)\n",
    "df_C['content_without_quote'] = pd.DataFrame(new_content_list)\n",
    "df_C.head()"
   ]
  },
  {
   "cell_type": "code",
   "execution_count": 581,
   "metadata": {},
   "outputs": [],
   "source": [
    "df_CC = pd.read_csv('data//at_process.csv',encoding = 'utf-8')"
   ]
  },
  {
   "cell_type": "code",
   "execution_count": 582,
   "metadata": {},
   "outputs": [
    {
     "data": {
      "text/html": [
       "<div>\n",
       "<style scoped>\n",
       "    .dataframe tbody tr th:only-of-type {\n",
       "        vertical-align: middle;\n",
       "    }\n",
       "\n",
       "    .dataframe tbody tr th {\n",
       "        vertical-align: top;\n",
       "    }\n",
       "\n",
       "    .dataframe thead th {\n",
       "        text-align: right;\n",
       "    }\n",
       "</style>\n",
       "<table border=\"1\" class=\"dataframe\">\n",
       "  <thead>\n",
       "    <tr style=\"text-align: right;\">\n",
       "      <th></th>\n",
       "      <th>msgId</th>\n",
       "      <th>chatroom</th>\n",
       "      <th>talker_id</th>\n",
       "      <th>content_without</th>\n",
       "    </tr>\n",
       "  </thead>\n",
       "  <tbody>\n",
       "    <tr>\n",
       "      <th>0</th>\n",
       "      <td>51844</td>\n",
       "      <td>5556417190@chatroom</td>\n",
       "      <td>wxid_ktr4cbwcdh2222</td>\n",
       "      <td>有谁知道孩子化疗影起的肺部重度感染的。在哪家医院能治疗的。急盼各位回复谢谢。</td>\n",
       "    </tr>\n",
       "    <tr>\n",
       "      <th>1</th>\n",
       "      <td>51849</td>\n",
       "      <td>5556417190@chatroom</td>\n",
       "      <td>wxid_psmmfcuyrvie21</td>\n",
       "      <td>NaN</td>\n",
       "    </tr>\n",
       "    <tr>\n",
       "      <th>2</th>\n",
       "      <td>56870</td>\n",
       "      <td>5556417190@chatroom</td>\n",
       "      <td>wxid_hwg6xtytli7l22</td>\n",
       "      <td>电场治疗是继手术放化疗免疫领域之后的第五大治疗方式！请查阅，尤其是在胶质瘤领域效果更佳！最重...</td>\n",
       "    </tr>\n",
       "    <tr>\n",
       "      <th>3</th>\n",
       "      <td>72868</td>\n",
       "      <td>5556417190@chatroom</td>\n",
       "      <td>wxid_nhealqnx9z0g22</td>\n",
       "      <td>大家好，前两天哪位病友预约的世纪坛核磁不做的？谢谢大家</td>\n",
       "    </tr>\n",
       "    <tr>\n",
       "      <th>4</th>\n",
       "      <td>74591</td>\n",
       "      <td>5556417190@chatroom</td>\n",
       "      <td>wxid_scdc598digo422</td>\n",
       "      <td>病友们大家好。有需要蒂清的吗？低价转让，有需要的加微信私聊。</td>\n",
       "    </tr>\n",
       "  </tbody>\n",
       "</table>\n",
       "</div>"
      ],
      "text/plain": [
       "   msgId             chatroom            talker_id  \\\n",
       "0  51844  5556417190@chatroom  wxid_ktr4cbwcdh2222   \n",
       "1  51849  5556417190@chatroom  wxid_psmmfcuyrvie21   \n",
       "2  56870  5556417190@chatroom  wxid_hwg6xtytli7l22   \n",
       "3  72868  5556417190@chatroom  wxid_nhealqnx9z0g22   \n",
       "4  74591  5556417190@chatroom  wxid_scdc598digo422   \n",
       "\n",
       "                                     content_without  \n",
       "0             有谁知道孩子化疗影起的肺部重度感染的。在哪家医院能治疗的。急盼各位回复谢谢。  \n",
       "1                                                NaN  \n",
       "2  电场治疗是继手术放化疗免疫领域之后的第五大治疗方式！请查阅，尤其是在胶质瘤领域效果更佳！最重...  \n",
       "3                        大家好，前两天哪位病友预约的世纪坛核磁不做的？谢谢大家  \n",
       "4                     病友们大家好。有需要蒂清的吗？低价转让，有需要的加微信私聊。  "
      ]
     },
     "execution_count": 582,
     "metadata": {},
     "output_type": "execute_result"
    }
   ],
   "source": [
    "df_CC.head()"
   ]
  },
  {
   "cell_type": "code",
   "execution_count": 584,
   "metadata": {},
   "outputs": [],
   "source": [
    "df_pro = df"
   ]
  },
  {
   "cell_type": "code",
   "execution_count": 605,
   "metadata": {},
   "outputs": [],
   "source": [
    "df_CC['label'] = 1"
   ]
  },
  {
   "cell_type": "code",
   "execution_count": 612,
   "metadata": {},
   "outputs": [
    {
     "data": {
      "text/html": [
       "<div>\n",
       "<style scoped>\n",
       "    .dataframe tbody tr th:only-of-type {\n",
       "        vertical-align: middle;\n",
       "    }\n",
       "\n",
       "    .dataframe tbody tr th {\n",
       "        vertical-align: top;\n",
       "    }\n",
       "\n",
       "    .dataframe thead th {\n",
       "        text-align: right;\n",
       "    }\n",
       "</style>\n",
       "<table border=\"1\" class=\"dataframe\">\n",
       "  <thead>\n",
       "    <tr style=\"text-align: right;\">\n",
       "      <th></th>\n",
       "      <th>msgId</th>\n",
       "      <th>content_without</th>\n",
       "      <th>label</th>\n",
       "    </tr>\n",
       "  </thead>\n",
       "  <tbody>\n",
       "    <tr>\n",
       "      <th>0</th>\n",
       "      <td>51844</td>\n",
       "      <td>有谁知道孩子化疗影起的肺部重度感染的。在哪家医院能治疗的。急盼各位回复谢谢。</td>\n",
       "      <td>1</td>\n",
       "    </tr>\n",
       "    <tr>\n",
       "      <th>1</th>\n",
       "      <td>51849</td>\n",
       "      <td>NaN</td>\n",
       "      <td>1</td>\n",
       "    </tr>\n",
       "    <tr>\n",
       "      <th>2</th>\n",
       "      <td>56870</td>\n",
       "      <td>电场治疗是继手术放化疗免疫领域之后的第五大治疗方式！请查阅，尤其是在胶质瘤领域效果更佳！最重...</td>\n",
       "      <td>1</td>\n",
       "    </tr>\n",
       "    <tr>\n",
       "      <th>3</th>\n",
       "      <td>72868</td>\n",
       "      <td>大家好，前两天哪位病友预约的世纪坛核磁不做的？谢谢大家</td>\n",
       "      <td>1</td>\n",
       "    </tr>\n",
       "    <tr>\n",
       "      <th>4</th>\n",
       "      <td>74591</td>\n",
       "      <td>病友们大家好。有需要蒂清的吗？低价转让，有需要的加微信私聊。</td>\n",
       "      <td>1</td>\n",
       "    </tr>\n",
       "  </tbody>\n",
       "</table>\n",
       "</div>"
      ],
      "text/plain": [
       "   msgId                                    content_without  label\n",
       "0  51844             有谁知道孩子化疗影起的肺部重度感染的。在哪家医院能治疗的。急盼各位回复谢谢。      1\n",
       "1  51849                                                NaN      1\n",
       "2  56870  电场治疗是继手术放化疗免疫领域之后的第五大治疗方式！请查阅，尤其是在胶质瘤领域效果更佳！最重...      1\n",
       "3  72868                        大家好，前两天哪位病友预约的世纪坛核磁不做的？谢谢大家      1\n",
       "4  74591                     病友们大家好。有需要蒂清的吗？低价转让，有需要的加微信私聊。      1"
      ]
     },
     "execution_count": 612,
     "metadata": {},
     "output_type": "execute_result"
    }
   ],
   "source": [
    "df_CC.drop(['chatroom','talker_id'],axis = 1,inplace = True)\n",
    "df_CC.head()"
   ]
  },
  {
   "cell_type": "code",
   "execution_count": 614,
   "metadata": {},
   "outputs": [],
   "source": [
    "df_pro = pd.merge(df_pro,df_CC,on = 'msgId',how='left')"
   ]
  },
  {
   "cell_type": "code",
   "execution_count": 617,
   "metadata": {},
   "outputs": [],
   "source": [
    "df_pro['label'] = df_pro['label'].fillna(0)"
   ]
  },
  {
   "cell_type": "code",
   "execution_count": 618,
   "metadata": {},
   "outputs": [
    {
     "data": {
      "text/html": [
       "<div>\n",
       "<style scoped>\n",
       "    .dataframe tbody tr th:only-of-type {\n",
       "        vertical-align: middle;\n",
       "    }\n",
       "\n",
       "    .dataframe tbody tr th {\n",
       "        vertical-align: top;\n",
       "    }\n",
       "\n",
       "    .dataframe thead th {\n",
       "        text-align: right;\n",
       "    }\n",
       "</style>\n",
       "<table border=\"1\" class=\"dataframe\">\n",
       "  <thead>\n",
       "    <tr style=\"text-align: right;\">\n",
       "      <th></th>\n",
       "      <th>msgId</th>\n",
       "      <th>chatroom</th>\n",
       "      <th>mType</th>\n",
       "      <th>createTime</th>\n",
       "      <th>content</th>\n",
       "      <th>flow_tag</th>\n",
       "      <th>talker_id</th>\n",
       "      <th>date</th>\n",
       "      <th>if_at</th>\n",
       "      <th>content_without</th>\n",
       "      <th>label</th>\n",
       "    </tr>\n",
       "  </thead>\n",
       "  <tbody>\n",
       "    <tr>\n",
       "      <th>0</th>\n",
       "      <td>49760</td>\n",
       "      <td>5007452012@chatroom</td>\n",
       "      <td>1</td>\n",
       "      <td>2018-08-24 11:22:58</td>\n",
       "      <td>不能比价格</td>\n",
       "      <td>2</td>\n",
       "      <td>wxid_psmmfcuyrvie21</td>\n",
       "      <td>2018-08-24</td>\n",
       "      <td>0</td>\n",
       "      <td>NaN</td>\n",
       "      <td>0.0</td>\n",
       "    </tr>\n",
       "    <tr>\n",
       "      <th>1</th>\n",
       "      <td>49761</td>\n",
       "      <td>5007452012@chatroom</td>\n",
       "      <td>1</td>\n",
       "      <td>2018-08-24 11:23:05</td>\n",
       "      <td>是</td>\n",
       "      <td>2</td>\n",
       "      <td>sujie9988</td>\n",
       "      <td>2018-08-24</td>\n",
       "      <td>0</td>\n",
       "      <td>NaN</td>\n",
       "      <td>0.0</td>\n",
       "    </tr>\n",
       "    <tr>\n",
       "      <th>2</th>\n",
       "      <td>49762</td>\n",
       "      <td>5007452012@chatroom</td>\n",
       "      <td>1</td>\n",
       "      <td>2018-08-24 11:23:10</td>\n",
       "      <td>髓母多了一个脊髓放疗</td>\n",
       "      <td>2</td>\n",
       "      <td>wxid_psmmfcuyrvie21</td>\n",
       "      <td>2018-08-24</td>\n",
       "      <td>0</td>\n",
       "      <td>NaN</td>\n",
       "      <td>0.0</td>\n",
       "    </tr>\n",
       "    <tr>\n",
       "      <th>3</th>\n",
       "      <td>49763</td>\n",
       "      <td>5007452012@chatroom</td>\n",
       "      <td>1</td>\n",
       "      <td>2018-08-24 11:23:12</td>\n",
       "      <td>可以去德国</td>\n",
       "      <td>2</td>\n",
       "      <td>wxid_nr9f78yoe69421</td>\n",
       "      <td>2018-08-24</td>\n",
       "      <td>0</td>\n",
       "      <td>NaN</td>\n",
       "      <td>0.0</td>\n",
       "    </tr>\n",
       "    <tr>\n",
       "      <th>4</th>\n",
       "      <td>49764</td>\n",
       "      <td>5007452012@chatroom</td>\n",
       "      <td>1</td>\n",
       "      <td>2018-08-24 11:23:27</td>\n",
       "      <td>钱都交了，安心治疗吧，现在长庚医院也要求治疗前费用交齐了</td>\n",
       "      <td>2</td>\n",
       "      <td>limuhao001</td>\n",
       "      <td>2018-08-24</td>\n",
       "      <td>0</td>\n",
       "      <td>NaN</td>\n",
       "      <td>0.0</td>\n",
       "    </tr>\n",
       "  </tbody>\n",
       "</table>\n",
       "</div>"
      ],
      "text/plain": [
       "   msgId             chatroom  mType          createTime  \\\n",
       "0  49760  5007452012@chatroom      1 2018-08-24 11:22:58   \n",
       "1  49761  5007452012@chatroom      1 2018-08-24 11:23:05   \n",
       "2  49762  5007452012@chatroom      1 2018-08-24 11:23:10   \n",
       "3  49763  5007452012@chatroom      1 2018-08-24 11:23:12   \n",
       "4  49764  5007452012@chatroom      1 2018-08-24 11:23:27   \n",
       "\n",
       "                        content  flow_tag            talker_id        date  \\\n",
       "0                         不能比价格         2  wxid_psmmfcuyrvie21  2018-08-24   \n",
       "1                             是         2            sujie9988  2018-08-24   \n",
       "2                    髓母多了一个脊髓放疗         2  wxid_psmmfcuyrvie21  2018-08-24   \n",
       "3                         可以去德国         2  wxid_nr9f78yoe69421  2018-08-24   \n",
       "4  钱都交了，安心治疗吧，现在长庚医院也要求治疗前费用交齐了         2           limuhao001  2018-08-24   \n",
       "\n",
       "   if_at content_without  label  \n",
       "0      0             NaN    0.0  \n",
       "1      0             NaN    0.0  \n",
       "2      0             NaN    0.0  \n",
       "3      0             NaN    0.0  \n",
       "4      0             NaN    0.0  "
      ]
     },
     "execution_count": 618,
     "metadata": {},
     "output_type": "execute_result"
    }
   ],
   "source": [
    "df_pro.head()"
   ]
  },
  {
   "cell_type": "code",
   "execution_count": null,
   "metadata": {},
   "outputs": [],
   "source": [
    "# #合并处理@前后的数据\n",
    "# new_content = list()\n",
    "# for i in range(0,len(df_pro)):\n",
    "#     if df_pro['label'][i]==0:\n",
    "#         new_content.append(df_pro['content'][i])\n",
    "#     else:\n",
    "#         new_content.append(df_pro['content_without'][i])       \n",
    "#     if i%10000==0:\n",
    "#         print(i)"
   ]
  },
  {
   "cell_type": "code",
   "execution_count": 622,
   "metadata": {},
   "outputs": [],
   "source": [
    "df_pro['new_content'] = pd.DataFrame(new_content)"
   ]
  },
  {
   "cell_type": "code",
   "execution_count": 624,
   "metadata": {},
   "outputs": [],
   "source": [
    "df_pro.drop(['content_without'],axis = 1,inplace = True)"
   ]
  },
  {
   "cell_type": "code",
   "execution_count": 634,
   "metadata": {},
   "outputs": [],
   "source": [
    "new_content = list()\n",
    "for i in range(0,len(df_pro)):\n",
    "    new_content.append(str(df_pro['new_content'][i]).replace(\" \", \"\"))\n",
    "df_pro['new_content_1']= pd.DataFrame(new_content)\n",
    "df_pro.drop(['new_content'],axis = 1,inplace = True)"
   ]
  },
  {
   "cell_type": "code",
   "execution_count": 635,
   "metadata": {},
   "outputs": [],
   "source": [
    "df_pro['length'] = df_pro['new_content_1'].apply(lambda x:len(x))"
   ]
  },
  {
   "cell_type": "code",
   "execution_count": 661,
   "metadata": {},
   "outputs": [
    {
     "name": "stderr",
     "output_type": "stream",
     "text": [
      "//anaconda3/lib/python3.7/site-packages/ipykernel_launcher.py:1: UserWarning: Boolean Series key will be reindexed to match DataFrame index.\n",
      "  \"\"\"Entry point for launching an IPython kernel.\n"
     ]
    },
    {
     "data": {
      "text/plain": [
       "count    107432.000000\n",
       "mean         14.374367\n",
       "std          31.293407\n",
       "min           3.000000\n",
       "25%           6.000000\n",
       "50%          10.000000\n",
       "75%          16.000000\n",
       "max        3353.000000\n",
       "Name: length, dtype: float64"
      ]
     },
     "execution_count": 661,
     "metadata": {},
     "output_type": "execute_result"
    }
   ],
   "source": [
    "df_pro[df_pro.mType==1][df_pro.length>2].length.describe()"
   ]
  },
  {
   "cell_type": "code",
   "execution_count": 687,
   "metadata": {},
   "outputs": [
    {
     "data": {
      "text/html": [
       "<div>\n",
       "<style scoped>\n",
       "    .dataframe tbody tr th:only-of-type {\n",
       "        vertical-align: middle;\n",
       "    }\n",
       "\n",
       "    .dataframe tbody tr th {\n",
       "        vertical-align: top;\n",
       "    }\n",
       "\n",
       "    .dataframe thead th {\n",
       "        text-align: right;\n",
       "    }\n",
       "</style>\n",
       "<table border=\"1\" class=\"dataframe\">\n",
       "  <thead>\n",
       "    <tr style=\"text-align: right;\">\n",
       "      <th></th>\n",
       "      <th>msgId</th>\n",
       "      <th>chatroom</th>\n",
       "      <th>mType</th>\n",
       "      <th>createTime</th>\n",
       "      <th>content</th>\n",
       "      <th>flow_tag</th>\n",
       "      <th>talker_id</th>\n",
       "      <th>date</th>\n",
       "      <th>if_at</th>\n",
       "      <th>label</th>\n",
       "      <th>new_content_1</th>\n",
       "      <th>length</th>\n",
       "      <th>sa</th>\n",
       "    </tr>\n",
       "  </thead>\n",
       "  <tbody>\n",
       "    <tr>\n",
       "      <th>0</th>\n",
       "      <td>49760</td>\n",
       "      <td>5007452012@chatroom</td>\n",
       "      <td>1</td>\n",
       "      <td>2018-08-24 11:22:58</td>\n",
       "      <td>不能比价格</td>\n",
       "      <td>2</td>\n",
       "      <td>wxid_psmmfcuyrvie21</td>\n",
       "      <td>2018-08-24</td>\n",
       "      <td>0</td>\n",
       "      <td>0.0</td>\n",
       "      <td>不能比价格</td>\n",
       "      <td>5</td>\n",
       "      <td>0.0</td>\n",
       "    </tr>\n",
       "    <tr>\n",
       "      <th>1</th>\n",
       "      <td>49761</td>\n",
       "      <td>5007452012@chatroom</td>\n",
       "      <td>1</td>\n",
       "      <td>2018-08-24 11:23:05</td>\n",
       "      <td>是</td>\n",
       "      <td>2</td>\n",
       "      <td>sujie9988</td>\n",
       "      <td>2018-08-24</td>\n",
       "      <td>0</td>\n",
       "      <td>0.0</td>\n",
       "      <td>是</td>\n",
       "      <td>1</td>\n",
       "      <td>0.0</td>\n",
       "    </tr>\n",
       "    <tr>\n",
       "      <th>2</th>\n",
       "      <td>49762</td>\n",
       "      <td>5007452012@chatroom</td>\n",
       "      <td>1</td>\n",
       "      <td>2018-08-24 11:23:10</td>\n",
       "      <td>髓母多了一个脊髓放疗</td>\n",
       "      <td>2</td>\n",
       "      <td>wxid_psmmfcuyrvie21</td>\n",
       "      <td>2018-08-24</td>\n",
       "      <td>0</td>\n",
       "      <td>0.0</td>\n",
       "      <td>髓母多了一个脊髓放疗</td>\n",
       "      <td>10</td>\n",
       "      <td>1.0</td>\n",
       "    </tr>\n",
       "    <tr>\n",
       "      <th>3</th>\n",
       "      <td>49763</td>\n",
       "      <td>5007452012@chatroom</td>\n",
       "      <td>1</td>\n",
       "      <td>2018-08-24 11:23:12</td>\n",
       "      <td>可以去德国</td>\n",
       "      <td>2</td>\n",
       "      <td>wxid_nr9f78yoe69421</td>\n",
       "      <td>2018-08-24</td>\n",
       "      <td>0</td>\n",
       "      <td>0.0</td>\n",
       "      <td>可以去德国</td>\n",
       "      <td>5</td>\n",
       "      <td>0.0</td>\n",
       "    </tr>\n",
       "    <tr>\n",
       "      <th>4</th>\n",
       "      <td>49764</td>\n",
       "      <td>5007452012@chatroom</td>\n",
       "      <td>1</td>\n",
       "      <td>2018-08-24 11:23:27</td>\n",
       "      <td>钱都交了，安心治疗吧，现在长庚医院也要求治疗前费用交齐了</td>\n",
       "      <td>2</td>\n",
       "      <td>limuhao001</td>\n",
       "      <td>2018-08-24</td>\n",
       "      <td>0</td>\n",
       "      <td>0.0</td>\n",
       "      <td>钱都交了，安心治疗吧，现在长庚医院也要求治疗前费用交齐了</td>\n",
       "      <td>28</td>\n",
       "      <td>0.0</td>\n",
       "    </tr>\n",
       "  </tbody>\n",
       "</table>\n",
       "</div>"
      ],
      "text/plain": [
       "   msgId             chatroom  mType          createTime  \\\n",
       "0  49760  5007452012@chatroom      1 2018-08-24 11:22:58   \n",
       "1  49761  5007452012@chatroom      1 2018-08-24 11:23:05   \n",
       "2  49762  5007452012@chatroom      1 2018-08-24 11:23:10   \n",
       "3  49763  5007452012@chatroom      1 2018-08-24 11:23:12   \n",
       "4  49764  5007452012@chatroom      1 2018-08-24 11:23:27   \n",
       "\n",
       "                        content  flow_tag            talker_id        date  \\\n",
       "0                         不能比价格         2  wxid_psmmfcuyrvie21  2018-08-24   \n",
       "1                             是         2            sujie9988  2018-08-24   \n",
       "2                    髓母多了一个脊髓放疗         2  wxid_psmmfcuyrvie21  2018-08-24   \n",
       "3                         可以去德国         2  wxid_nr9f78yoe69421  2018-08-24   \n",
       "4  钱都交了，安心治疗吧，现在长庚医院也要求治疗前费用交齐了         2           limuhao001  2018-08-24   \n",
       "\n",
       "   if_at  label                 new_content_1  length   sa  \n",
       "0      0    0.0                         不能比价格       5  0.0  \n",
       "1      0    0.0                             是       1  0.0  \n",
       "2      0    0.0                    髓母多了一个脊髓放疗      10  1.0  \n",
       "3      0    0.0                         可以去德国       5  0.0  \n",
       "4      0    0.0  钱都交了，安心治疗吧，现在长庚医院也要求治疗前费用交齐了      28  0.0  "
      ]
     },
     "execution_count": 687,
     "metadata": {},
     "output_type": "execute_result"
    }
   ],
   "source": [
    "df_sample['sa'] = 1\n",
    "df_pro = pd.merge(df_pro,df_sample[['msgId','sa']],on = 'msgId',how='left')\n",
    "df_pro['sa']=df_pro['sa'].fillna(0)\n",
    "df_pro.head()"
   ]
  },
  {
   "cell_type": "code",
   "execution_count": 688,
   "metadata": {},
   "outputs": [
    {
     "name": "stderr",
     "output_type": "stream",
     "text": [
      "//anaconda3/lib/python3.7/site-packages/ipykernel_launcher.py:1: UserWarning: Boolean Series key will be reindexed to match DataFrame index.\n",
      "  \"\"\"Entry point for launching an IPython kernel.\n"
     ]
    }
   ],
   "source": [
    "df_pro1 = df_pro[df_pro.mType==1][df_pro.length>2]"
   ]
  },
  {
   "cell_type": "code",
   "execution_count": 689,
   "metadata": {},
   "outputs": [],
   "source": [
    "df_pro1.to_csv('data//all_wechat_pro.csv',encoding = 'utf-8-sig',index = None)"
   ]
  },
  {
   "cell_type": "code",
   "execution_count": 690,
   "metadata": {},
   "outputs": [
    {
     "name": "stderr",
     "output_type": "stream",
     "text": [
      "//anaconda3/lib/python3.7/site-packages/ipykernel_launcher.py:1: UserWarning: Boolean Series key will be reindexed to match DataFrame index.\n",
      "  \"\"\"Entry point for launching an IPython kernel.\n",
      "//anaconda3/lib/python3.7/site-packages/ipykernel_launcher.py:2: UserWarning: Boolean Series key will be reindexed to match DataFrame index.\n",
      "  \n"
     ]
    },
    {
     "data": {
      "text/html": [
       "<div>\n",
       "<style scoped>\n",
       "    .dataframe tbody tr th:only-of-type {\n",
       "        vertical-align: middle;\n",
       "    }\n",
       "\n",
       "    .dataframe tbody tr th {\n",
       "        vertical-align: top;\n",
       "    }\n",
       "\n",
       "    .dataframe thead th {\n",
       "        text-align: right;\n",
       "    }\n",
       "</style>\n",
       "<table border=\"1\" class=\"dataframe\">\n",
       "  <thead>\n",
       "    <tr style=\"text-align: right;\">\n",
       "      <th></th>\n",
       "      <th>msgId</th>\n",
       "      <th>chatroom</th>\n",
       "      <th>mType</th>\n",
       "      <th>createTime</th>\n",
       "      <th>content</th>\n",
       "      <th>flow_tag</th>\n",
       "      <th>talker_id</th>\n",
       "      <th>date</th>\n",
       "      <th>if_at</th>\n",
       "      <th>label</th>\n",
       "      <th>new_content_1</th>\n",
       "      <th>length</th>\n",
       "      <th>sa</th>\n",
       "    </tr>\n",
       "  </thead>\n",
       "  <tbody>\n",
       "    <tr>\n",
       "      <th>7470</th>\n",
       "      <td>77188</td>\n",
       "      <td>5007452012@chatroom</td>\n",
       "      <td>1</td>\n",
       "      <td>2019-03-05 22:49:23</td>\n",
       "      <td>写给谁了</td>\n",
       "      <td>2</td>\n",
       "      <td>wxid_cezpu2hxcb4k22</td>\n",
       "      <td>2019-03-05</td>\n",
       "      <td>0</td>\n",
       "      <td>0.0</td>\n",
       "      <td>写给谁了</td>\n",
       "      <td>4</td>\n",
       "      <td>0.0</td>\n",
       "    </tr>\n",
       "    <tr>\n",
       "      <th>110588</th>\n",
       "      <td>464878</td>\n",
       "      <td>5007452012@chatroom</td>\n",
       "      <td>1</td>\n",
       "      <td>2018-11-17 09:03:03</td>\n",
       "      <td>[捂脸][捂脸][捂脸]</td>\n",
       "      <td>0</td>\n",
       "      <td>pengjuan505711</td>\n",
       "      <td>2018-11-17</td>\n",
       "      <td>0</td>\n",
       "      <td>0.0</td>\n",
       "      <td>[捂脸][捂脸][捂脸]</td>\n",
       "      <td>12</td>\n",
       "      <td>0.0</td>\n",
       "    </tr>\n",
       "    <tr>\n",
       "      <th>24196</th>\n",
       "      <td>145838</td>\n",
       "      <td>5007452012@chatroom</td>\n",
       "      <td>1</td>\n",
       "      <td>2018-12-15 13:45:20</td>\n",
       "      <td>你周一挂李春德的号他给开的单子就是特需核磁</td>\n",
       "      <td>0</td>\n",
       "      <td>wxid_uqa61jk12neu41</td>\n",
       "      <td>2018-12-15</td>\n",
       "      <td>0</td>\n",
       "      <td>0.0</td>\n",
       "      <td>你周一挂李春德的号他给开的单子就是特需核磁</td>\n",
       "      <td>21</td>\n",
       "      <td>0.0</td>\n",
       "    </tr>\n",
       "    <tr>\n",
       "      <th>116329</th>\n",
       "      <td>489258</td>\n",
       "      <td>5007452012@chatroom</td>\n",
       "      <td>1</td>\n",
       "      <td>2018-11-20 19:20:50</td>\n",
       "      <td>第一个好呀，医生精力是最棒的</td>\n",
       "      <td>0</td>\n",
       "      <td>wxid_g31fxtu30e7z21</td>\n",
       "      <td>2018-11-20</td>\n",
       "      <td>0</td>\n",
       "      <td>0.0</td>\n",
       "      <td>第一个好呀，医生精力是最棒的</td>\n",
       "      <td>14</td>\n",
       "      <td>0.0</td>\n",
       "    </tr>\n",
       "    <tr>\n",
       "      <th>95584</th>\n",
       "      <td>409540</td>\n",
       "      <td>5007452012@chatroom</td>\n",
       "      <td>1</td>\n",
       "      <td>2018-11-30 20:01:40</td>\n",
       "      <td>你有核磁片么</td>\n",
       "      <td>0</td>\n",
       "      <td>zhaoxilai003</td>\n",
       "      <td>2018-11-30</td>\n",
       "      <td>0</td>\n",
       "      <td>0.0</td>\n",
       "      <td>你有核磁片么</td>\n",
       "      <td>6</td>\n",
       "      <td>0.0</td>\n",
       "    </tr>\n",
       "  </tbody>\n",
       "</table>\n",
       "</div>"
      ],
      "text/plain": [
       "         msgId             chatroom  mType          createTime  \\\n",
       "7470     77188  5007452012@chatroom      1 2019-03-05 22:49:23   \n",
       "110588  464878  5007452012@chatroom      1 2018-11-17 09:03:03   \n",
       "24196   145838  5007452012@chatroom      1 2018-12-15 13:45:20   \n",
       "116329  489258  5007452012@chatroom      1 2018-11-20 19:20:50   \n",
       "95584   409540  5007452012@chatroom      1 2018-11-30 20:01:40   \n",
       "\n",
       "                      content  flow_tag            talker_id        date  \\\n",
       "7470                     写给谁了         2  wxid_cezpu2hxcb4k22  2019-03-05   \n",
       "110588           [捂脸][捂脸][捂脸]         0       pengjuan505711  2018-11-17   \n",
       "24196   你周一挂李春德的号他给开的单子就是特需核磁         0  wxid_uqa61jk12neu41  2018-12-15   \n",
       "116329         第一个好呀，医生精力是最棒的         0  wxid_g31fxtu30e7z21  2018-11-20   \n",
       "95584                  你有核磁片么         0         zhaoxilai003  2018-11-30   \n",
       "\n",
       "        if_at  label          new_content_1  length   sa  \n",
       "7470        0    0.0                   写给谁了       4  0.0  \n",
       "110588      0    0.0           [捂脸][捂脸][捂脸]      12  0.0  \n",
       "24196       0    0.0  你周一挂李春德的号他给开的单子就是特需核磁      21  0.0  \n",
       "116329      0    0.0         第一个好呀，医生精力是最棒的      14  0.0  \n",
       "95584       0    0.0                 你有核磁片么       6  0.0  "
      ]
     },
     "execution_count": 690,
     "metadata": {},
     "output_type": "execute_result"
    }
   ],
   "source": [
    "df_s1 = df_pro1[df_pro1.chatroom=='5007452012@chatroom'][df_pro1.sa==0]\n",
    "df_s2 = df_pro1[df_pro1.chatroom=='5556417190@chatroom'][df_pro1.sa==0]\n",
    "np.random.seed(seed=10)\n",
    "df_s11 = df_s1.sample(frac=0.05)\n",
    "df_s22 = df_s2.sample(frac=0.05)\n",
    "df_sample1 = pd.concat([df_s11,df_s22])\n",
    "df_sample1.head()"
   ]
  },
  {
   "cell_type": "code",
   "execution_count": 682,
   "metadata": {},
   "outputs": [],
   "source": [
    "#df_sample1.count()"
   ]
  },
  {
   "cell_type": "code",
   "execution_count": 691,
   "metadata": {},
   "outputs": [],
   "source": [
    "df_saindex = df_pro1[df_pro1.sa==1][['msgId','new_content_1']]"
   ]
  },
  {
   "cell_type": "code",
   "execution_count": 692,
   "metadata": {},
   "outputs": [
    {
     "data": {
      "text/html": [
       "<div>\n",
       "<style scoped>\n",
       "    .dataframe tbody tr th:only-of-type {\n",
       "        vertical-align: middle;\n",
       "    }\n",
       "\n",
       "    .dataframe tbody tr th {\n",
       "        vertical-align: top;\n",
       "    }\n",
       "\n",
       "    .dataframe thead th {\n",
       "        text-align: right;\n",
       "    }\n",
       "</style>\n",
       "<table border=\"1\" class=\"dataframe\">\n",
       "  <thead>\n",
       "    <tr style=\"text-align: right;\">\n",
       "      <th></th>\n",
       "      <th>msgId</th>\n",
       "      <th>chatroom</th>\n",
       "      <th>mType</th>\n",
       "      <th>createTime</th>\n",
       "      <th>content</th>\n",
       "      <th>flow_tag</th>\n",
       "      <th>talker_id</th>\n",
       "      <th>seek_info</th>\n",
       "      <th>offer_info</th>\n",
       "      <th>seek_love</th>\n",
       "      <th>offer_love</th>\n",
       "      <th>company</th>\n",
       "      <th>sa</th>\n",
       "      <th>new_content_1</th>\n",
       "      <th>label</th>\n",
       "    </tr>\n",
       "  </thead>\n",
       "  <tbody>\n",
       "    <tr>\n",
       "      <th>0</th>\n",
       "      <td>166208</td>\n",
       "      <td>5007452012@chatroom</td>\n",
       "      <td>1</td>\n",
       "      <td>2019/3/5 21:47</td>\n",
       "      <td>1</td>\n",
       "      <td>0</td>\n",
       "      <td>iakgnaw</td>\n",
       "      <td>NaN</td>\n",
       "      <td>1.0</td>\n",
       "      <td>NaN</td>\n",
       "      <td>NaN</td>\n",
       "      <td>NaN</td>\n",
       "      <td>1</td>\n",
       "      <td>NaN</td>\n",
       "      <td>0.0</td>\n",
       "    </tr>\n",
       "    <tr>\n",
       "      <th>1</th>\n",
       "      <td>362883</td>\n",
       "      <td>5007452012@chatroom</td>\n",
       "      <td>1</td>\n",
       "      <td>2019/1/4 22:34</td>\n",
       "      <td>3</td>\n",
       "      <td>0</td>\n",
       "      <td>huclapp</td>\n",
       "      <td>NaN</td>\n",
       "      <td>1.0</td>\n",
       "      <td>NaN</td>\n",
       "      <td>NaN</td>\n",
       "      <td>NaN</td>\n",
       "      <td>1</td>\n",
       "      <td>NaN</td>\n",
       "      <td>0.0</td>\n",
       "    </tr>\n",
       "    <tr>\n",
       "      <th>2</th>\n",
       "      <td>490448</td>\n",
       "      <td>5556417190@chatroom</td>\n",
       "      <td>1</td>\n",
       "      <td>2018/3/24 21:36</td>\n",
       "      <td>6</td>\n",
       "      <td>0</td>\n",
       "      <td>wxid_psmmfcuyrvie21</td>\n",
       "      <td>NaN</td>\n",
       "      <td>1.0</td>\n",
       "      <td>NaN</td>\n",
       "      <td>NaN</td>\n",
       "      <td>NaN</td>\n",
       "      <td>1</td>\n",
       "      <td>NaN</td>\n",
       "      <td>0.0</td>\n",
       "    </tr>\n",
       "    <tr>\n",
       "      <th>3</th>\n",
       "      <td>299608</td>\n",
       "      <td>5007452012@chatroom</td>\n",
       "      <td>1</td>\n",
       "      <td>2018/12/31 22:13</td>\n",
       "      <td>110</td>\n",
       "      <td>0</td>\n",
       "      <td>wxid_xp8lrx2tp3cf21</td>\n",
       "      <td>NaN</td>\n",
       "      <td>NaN</td>\n",
       "      <td>NaN</td>\n",
       "      <td>NaN</td>\n",
       "      <td>1.0</td>\n",
       "      <td>1</td>\n",
       "      <td>110</td>\n",
       "      <td>1.0</td>\n",
       "    </tr>\n",
       "    <tr>\n",
       "      <th>4</th>\n",
       "      <td>273745</td>\n",
       "      <td>5556417190@chatroom</td>\n",
       "      <td>1</td>\n",
       "      <td>2018/6/29 23:00</td>\n",
       "      <td>580</td>\n",
       "      <td>0</td>\n",
       "      <td>wxid_7lsbjt1egn1j22</td>\n",
       "      <td>NaN</td>\n",
       "      <td>1.0</td>\n",
       "      <td>NaN</td>\n",
       "      <td>NaN</td>\n",
       "      <td>NaN</td>\n",
       "      <td>1</td>\n",
       "      <td>580</td>\n",
       "      <td>1.0</td>\n",
       "    </tr>\n",
       "  </tbody>\n",
       "</table>\n",
       "</div>"
      ],
      "text/plain": [
       "    msgId             chatroom  mType        createTime content  flow_tag  \\\n",
       "0  166208  5007452012@chatroom      1    2019/3/5 21:47       1         0   \n",
       "1  362883  5007452012@chatroom      1    2019/1/4 22:34       3         0   \n",
       "2  490448  5556417190@chatroom      1   2018/3/24 21:36       6         0   \n",
       "3  299608  5007452012@chatroom      1  2018/12/31 22:13     110         0   \n",
       "4  273745  5556417190@chatroom      1   2018/6/29 23:00     580         0   \n",
       "\n",
       "             talker_id  seek_info  offer_info  seek_love  offer_love  company  \\\n",
       "0              iakgnaw        NaN         1.0        NaN         NaN      NaN   \n",
       "1              huclapp        NaN         1.0        NaN         NaN      NaN   \n",
       "2  wxid_psmmfcuyrvie21        NaN         1.0        NaN         NaN      NaN   \n",
       "3  wxid_xp8lrx2tp3cf21        NaN         NaN        NaN         NaN      1.0   \n",
       "4  wxid_7lsbjt1egn1j22        NaN         1.0        NaN         NaN      NaN   \n",
       "\n",
       "   sa new_content_1  label  \n",
       "0   1           NaN    0.0  \n",
       "1   1           NaN    0.0  \n",
       "2   1           NaN    0.0  \n",
       "3   1           110    1.0  \n",
       "4   1           580    1.0  "
      ]
     },
     "execution_count": 692,
     "metadata": {},
     "output_type": "execute_result"
    }
   ],
   "source": [
    "df_saindex['label'] = 1\n",
    "df_sample = pd.merge(df_sample,df_saindex,on = 'msgId',how='left')\n",
    "df_sample['label']=df_sample['label'].fillna(0)\n",
    "df_sample.head()"
   ]
  },
  {
   "cell_type": "code",
   "execution_count": 695,
   "metadata": {},
   "outputs": [],
   "source": [
    "df_sample.to_csv('data//wechat_sample_0405.csv',encoding = 'utf-8-sig',index = None)"
   ]
  },
  {
   "cell_type": "code",
   "execution_count": 685,
   "metadata": {},
   "outputs": [],
   "source": [
    "#df_pro.drop(['sa'],axis=1,inplace = True)"
   ]
  },
  {
   "cell_type": "code",
   "execution_count": 696,
   "metadata": {},
   "outputs": [],
   "source": [
    "df_sample1.to_csv('data//wechat_sample2_0405.csv',encoding = 'utf-8-sig',index = None)"
   ]
  },
  {
   "cell_type": "code",
   "execution_count": null,
   "metadata": {},
   "outputs": [],
   "source": []
  }
 ],
 "metadata": {
  "kernelspec": {
   "display_name": "Python 3",
   "language": "python",
   "name": "python3"
  },
  "language_info": {
   "codemirror_mode": {
    "name": "ipython",
    "version": 3
   },
   "file_extension": ".py",
   "mimetype": "text/x-python",
   "name": "python",
   "nbconvert_exporter": "python",
   "pygments_lexer": "ipython3",
   "version": "3.7.3"
  },
  "toc": {
   "base_numbering": 1,
   "nav_menu": {},
   "number_sections": true,
   "sideBar": true,
   "skip_h1_title": false,
   "title_cell": "Table of Contents",
   "title_sidebar": "Contents",
   "toc_cell": false,
   "toc_position": {
    "height": "calc(100% - 180px)",
    "left": "10px",
    "top": "150px",
    "width": "324px"
   },
   "toc_section_display": true,
   "toc_window_display": true
  }
 },
 "nbformat": 4,
 "nbformat_minor": 2
}
